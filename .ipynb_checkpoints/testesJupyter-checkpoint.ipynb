{
 "cells": [
  {
   "cell_type": "code",
   "execution_count": 43,
   "id": "220adeb2-b092-4cee-8903-f38111aa8c31",
   "metadata": {},
   "outputs": [],
   "source": [
    "import os\n",
    "import json\n",
    "from math import radians, sin, cos, sqrt, atan2, asin, pi\n",
    "def unificar_arquivos():\n",
    "    json_gigante = {}\n",
    "    for i in os.listdir('dbFiles'):\n",
    "        json_simplificado={}\n",
    "        with open('dbFiles/'+i, 'r') as arquivo_json:\n",
    "            data = json.load(arquivo_json)\n",
    "        if data['dict_id'] not in json_gigante:\n",
    "            json_gigante[data['dict_id']] = {\n",
    "                'name':data['name'],\n",
    "                'uf':data['uf'],\n",
    "                'lat':float(data['extra_latitude']),\n",
    "                'lon':float(data['extra_longitude'])}\n",
    "        else:\n",
    "            print('json existe, verificar ',data['dict_id'])\n",
    "    return json_gigante\n",
    "json_gigante = unificar_arquivos()"
   ]
  },
  {
   "cell_type": "code",
   "execution_count": 44,
   "id": "06bc1f04-a759-443a-9f47-62a2413c0638",
   "metadata": {},
   "outputs": [],
   "source": [
    "def json_busca(name, json_gigante):\n",
    "    for i in json_gigante:\n",
    "        if json_gigante[i]['name'] == name:\n",
    "            return json_gigante[i]\n",
    "    return None"
   ]
  },
  {
   "cell_type": "code",
   "execution_count": 70,
   "id": "df457488-eed6-40b6-8658-0d4c2ddfeb96",
   "metadata": {},
   "outputs": [],
   "source": [
    "from math import sin, cos, asin, sqrt\n",
    "\n",
    "# Raio da Terra (aproximadamente)\n",
    "EARTH_RADIUS = 6378.1370   # quilômetros\n",
    "\n",
    "def distancia_haversine(lat1, lon1, lat2, lon2):\n",
    "  \"\"\"\n",
    "  Calcula a distância entre dois pontos usando a fórmula de Haversine.\n",
    "\n",
    "  Args:\n",
    "    lat1 (float): Latitude do primeiro ponto em graus.\n",
    "    lon1 (float): Longitude do primeiro ponto em graus.\n",
    "    lat2 (float): Latitude do segundo ponto em graus.\n",
    "    lon2 (float): Longitude do segundo ponto em graus.\n",
    "\n",
    "  Returns:\n",
    "    float: Distância entre os dois pontos em quilômetros.\n",
    "  \"\"\"\n",
    "\n",
    "  # Converter graus para radianos\n",
    "  lat1_rad = lat1 * pi / 180\n",
    "  lon1_rad = lon1 * pi / 180\n",
    "  lat2_rad = lat2 * pi / 180\n",
    "  lon2_rad = lon2 * pi / 180\n",
    "\n",
    "  # Calcular a diferença de latitude e longitude\n",
    "  dlat = lat2_rad - lat1_rad\n",
    "  dlon = lon2_rad - lon1_rad\n",
    "\n",
    "  # Fórmula de Haversine\n",
    "  a = sin(dlat/2) * sin(dlat/2) + cos(lat1_rad) * cos(lat2_rad) * sin(dlon/2) * sin(dlon/2)\n",
    "  c = 2 * asin(sqrt(a))\n",
    "\n",
    "  # Distância em quilômetros\n",
    "  distance = c * EARTH_RADIUS\n",
    "\n",
    "  return distance"
   ]
  },
  {
   "cell_type": "code",
   "execution_count": 71,
   "id": "51538b1e-7a7f-4906-abf0-3c8e67924fc5",
   "metadata": {},
   "outputs": [
    {
     "name": "stdout",
     "output_type": "stream",
     "text": [
      "{'name': 'Santa Clara do Sul', 'uf': 43, 'lat': -29.4686024, 'lon': -52.0868635}\n",
      "{'name': 'Lajeado', 'uf': 43, 'lat': -29.4671522, 'lon': -51.9624046}\n",
      "{'name': 'Arroio do Meio', 'uf': 43, 'lat': -29.4020392, 'lon': -51.9444993}\n",
      "{'name': 'Teutônia', 'uf': 43, 'lat': -29.4816568, 'lon': -51.813752}\n",
      "{'name': 'Colinas', 'uf': 43, 'lat': -29.3866023, 'lon': -51.8697911}\n"
     ]
    }
   ],
   "source": [
    "def calcular_distancia(cidade1, cidade2):\n",
    "    lat1, lon1 = float(cidade1['lat']), float(cidade1['lon'])\n",
    "    lat2, lon2 = float(cidade2['lat']), float(cidade2['lon'])\n",
    "    return distancia_haversine(lat1, lon1, lat2, lon2)\n",
    "\n",
    "def retorna_lista_municios_raio(json_municipio, json_gigante, raio):\n",
    "    json_retorna=[]\n",
    "    for municipio in json_gigante:\n",
    "        if json_gigante[municipio] not in json_retorna:\n",
    "            if calcular_distancia(json_municipio, json_gigante[municipio])<=raio:\n",
    "                if json_gigante[municipio]['uf'] == json_municipio['uf']:\n",
    "                    _ = json_gigante[municipio]\n",
    "                    _['distance'] = calcular_distancia(json_municipio, json_gigante[municipio])\n",
    "                    json_retorna.append(_)\n",
    "    return json_retorna\n",
    "\n",
    "\n",
    "\n",
    "\n",
    "\n",
    "#print(calcular_distancia(json_busca(\"Lajeado\", json_gigante), json_busca(\"Bom Retiro do Sul\", json_gigante)))\n",
    "#print(json_busca(\"Lajeado\", json_gigante))\n",
    "#print(json_busca(\"Bom Retiro do Sul\", json_gigante))\n",
    "for i in (retorna_lista_municios_raio(json_busca(\"Lajeado\", json_gigante), json_gigante, 15)):\n",
    "    print(i)"
   ]
  },
  {
   "cell_type": "code",
   "execution_count": 1,
   "id": "08a9986a-8f99-4414-bd19-50c099b695f8",
   "metadata": {},
   "outputs": [
    {
     "name": "stdout",
     "output_type": "stream",
     "text": [
      "[{'id': 11, 'sigla': 'RO', 'nome': 'Rondônia', 'regiao': {'id': 1, 'sigla': 'N', 'nome': 'Norte'}}, {'id': 12, 'sigla': 'AC', 'nome': 'Acre', 'regiao': {'id': 1, 'sigla': 'N', 'nome': 'Norte'}}, {'id': 13, 'sigla': 'AM', 'nome': 'Amazonas', 'regiao': {'id': 1, 'sigla': 'N', 'nome': 'Norte'}}, {'id': 14, 'sigla': 'RR', 'nome': 'Roraima', 'regiao': {'id': 1, 'sigla': 'N', 'nome': 'Norte'}}, {'id': 15, 'sigla': 'PA', 'nome': 'Pará', 'regiao': {'id': 1, 'sigla': 'N', 'nome': 'Norte'}}, {'id': 16, 'sigla': 'AP', 'nome': 'Amapá', 'regiao': {'id': 1, 'sigla': 'N', 'nome': 'Norte'}}, {'id': 17, 'sigla': 'TO', 'nome': 'Tocantins', 'regiao': {'id': 1, 'sigla': 'N', 'nome': 'Norte'}}, {'id': 21, 'sigla': 'MA', 'nome': 'Maranhão', 'regiao': {'id': 2, 'sigla': 'NE', 'nome': 'Nordeste'}}, {'id': 22, 'sigla': 'PI', 'nome': 'Piauí', 'regiao': {'id': 2, 'sigla': 'NE', 'nome': 'Nordeste'}}, {'id': 23, 'sigla': 'CE', 'nome': 'Ceará', 'regiao': {'id': 2, 'sigla': 'NE', 'nome': 'Nordeste'}}, {'id': 24, 'sigla': 'RN', 'nome': 'Rio Grande do Norte', 'regiao': {'id': 2, 'sigla': 'NE', 'nome': 'Nordeste'}}, {'id': 25, 'sigla': 'PB', 'nome': 'Paraíba', 'regiao': {'id': 2, 'sigla': 'NE', 'nome': 'Nordeste'}}, {'id': 26, 'sigla': 'PE', 'nome': 'Pernambuco', 'regiao': {'id': 2, 'sigla': 'NE', 'nome': 'Nordeste'}}, {'id': 27, 'sigla': 'AL', 'nome': 'Alagoas', 'regiao': {'id': 2, 'sigla': 'NE', 'nome': 'Nordeste'}}, {'id': 28, 'sigla': 'SE', 'nome': 'Sergipe', 'regiao': {'id': 2, 'sigla': 'NE', 'nome': 'Nordeste'}}, {'id': 29, 'sigla': 'BA', 'nome': 'Bahia', 'regiao': {'id': 2, 'sigla': 'NE', 'nome': 'Nordeste'}}, {'id': 31, 'sigla': 'MG', 'nome': 'Minas Gerais', 'regiao': {'id': 3, 'sigla': 'SE', 'nome': 'Sudeste'}}, {'id': 32, 'sigla': 'ES', 'nome': 'Espírito Santo', 'regiao': {'id': 3, 'sigla': 'SE', 'nome': 'Sudeste'}}, {'id': 33, 'sigla': 'RJ', 'nome': 'Rio de Janeiro', 'regiao': {'id': 3, 'sigla': 'SE', 'nome': 'Sudeste'}}, {'id': 35, 'sigla': 'SP', 'nome': 'São Paulo', 'regiao': {'id': 3, 'sigla': 'SE', 'nome': 'Sudeste'}}, {'id': 41, 'sigla': 'PR', 'nome': 'Paraná', 'regiao': {'id': 4, 'sigla': 'S', 'nome': 'Sul'}}, {'id': 42, 'sigla': 'SC', 'nome': 'Santa Catarina', 'regiao': {'id': 4, 'sigla': 'S', 'nome': 'Sul'}}, {'id': 43, 'sigla': 'RS', 'nome': 'Rio Grande do Sul', 'regiao': {'id': 4, 'sigla': 'S', 'nome': 'Sul'}}, {'id': 50, 'sigla': 'MS', 'nome': 'Mato Grosso do Sul', 'regiao': {'id': 5, 'sigla': 'CO', 'nome': 'Centro-Oeste'}}, {'id': 51, 'sigla': 'MT', 'nome': 'Mato Grosso', 'regiao': {'id': 5, 'sigla': 'CO', 'nome': 'Centro-Oeste'}}, {'id': 52, 'sigla': 'GO', 'nome': 'Goiás', 'regiao': {'id': 5, 'sigla': 'CO', 'nome': 'Centro-Oeste'}}, {'id': 53, 'sigla': 'DF', 'nome': 'Distrito Federal', 'regiao': {'id': 5, 'sigla': 'CO', 'nome': 'Centro-Oeste'}}]\n"
     ]
    }
   ],
   "source": [
    "import requests\n",
    "url = 'https://servicodados.ibge.gov.br/api/v1/localidades/estados'\n",
    "resposta = requests.get(url)\n",
    "\n",
    "# Verifique se a requisição foi bem-sucedida\n",
    "if resposta.status_code == 200:\n",
    "    # Extraia o nome do município da resposta JSON\n",
    "    ufs = resposta.json()\n",
    "    print(ufs)\n",
    "    uf_dict={}\n",
    "    for i in ufs:\n",
    "        uf_dict[ufs[i['id']]=ufs[i['nome']]\n",
    "    print(uf_dict)"
   ]
  },
  {
   "cell_type": "code",
   "execution_count": null,
   "id": "dfb4ffd3-c17f-4586-9bad-6c51cb42374b",
   "metadata": {},
   "outputs": [],
   "source": []
  }
 ],
 "metadata": {
  "kernelspec": {
   "display_name": "Python 3 (ipykernel)",
   "language": "python",
   "name": "python3"
  },
  "language_info": {
   "codemirror_mode": {
    "name": "ipython",
    "version": 3
   },
   "file_extension": ".py",
   "mimetype": "text/x-python",
   "name": "python",
   "nbconvert_exporter": "python",
   "pygments_lexer": "ipython3",
   "version": "3.10.12"
  }
 },
 "nbformat": 4,
 "nbformat_minor": 5
}
