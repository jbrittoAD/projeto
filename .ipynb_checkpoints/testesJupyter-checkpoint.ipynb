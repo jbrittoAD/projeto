{
 "cells": [
  {
   "cell_type": "code",
   "execution_count": 43,
   "id": "220adeb2-b092-4cee-8903-f38111aa8c31",
   "metadata": {},
   "outputs": [],
   "source": [
    "import os\n",
    "import json\n",
    "from math import radians, sin, cos, sqrt, atan2, asin, pi\n",
    "def unificar_arquivos():\n",
    "    json_gigante = {}\n",
    "    for i in os.listdir('dbFiles'):\n",
    "        json_simplificado={}\n",
    "        with open('dbFiles/'+i, 'r') as arquivo_json:\n",
    "            data = json.load(arquivo_json)\n",
    "        if data['dict_id'] not in json_gigante:\n",
    "            json_gigante[data['dict_id']] = {\n",
    "                'name':data['name'],\n",
    "                'uf':data['uf'],\n",
    "                'lat':float(data['extra_latitude']),\n",
    "                'lon':float(data['extra_longitude'])}\n",
    "        else:\n",
    "            print('json existe, verificar ',data['dict_id'])\n",
    "    return json_gigante\n",
    "json_gigante = unificar_arquivos()"
   ]
  },
  {
   "cell_type": "code",
   "execution_count": 44,
   "id": "06bc1f04-a759-443a-9f47-62a2413c0638",
   "metadata": {},
   "outputs": [],
   "source": [
    "def json_busca(name, json_gigante):\n",
    "    for i in json_gigante:\n",
    "        if json_gigante[i]['name'] == name:\n",
    "            return json_gigante[i]\n",
    "    return None"
   ]
  },
  {
   "cell_type": "code",
   "execution_count": 70,
   "id": "df457488-eed6-40b6-8658-0d4c2ddfeb96",
   "metadata": {},
   "outputs": [],
   "source": [
    "from math import sin, cos, asin, sqrt\n",
    "\n",
    "# Raio da Terra (aproximadamente)\n",
    "EARTH_RADIUS = 6378.1370   # quilômetros\n",
    "\n",
    "def distancia_haversine(lat1, lon1, lat2, lon2):\n",
    "  \"\"\"\n",
    "  Calcula a distância entre dois pontos usando a fórmula de Haversine.\n",
    "\n",
    "  Args:\n",
    "    lat1 (float): Latitude do primeiro ponto em graus.\n",
    "    lon1 (float): Longitude do primeiro ponto em graus.\n",
    "    lat2 (float): Latitude do segundo ponto em graus.\n",
    "    lon2 (float): Longitude do segundo ponto em graus.\n",
    "\n",
    "  Returns:\n",
    "    float: Distância entre os dois pontos em quilômetros.\n",
    "  \"\"\"\n",
    "\n",
    "  # Converter graus para radianos\n",
    "  lat1_rad = lat1 * pi / 180\n",
    "  lon1_rad = lon1 * pi / 180\n",
    "  lat2_rad = lat2 * pi / 180\n",
    "  lon2_rad = lon2 * pi / 180\n",
    "\n",
    "  # Calcular a diferença de latitude e longitude\n",
    "  dlat = lat2_rad - lat1_rad\n",
    "  dlon = lon2_rad - lon1_rad\n",
    "\n",
    "  # Fórmula de Haversine\n",
    "  a = sin(dlat/2) * sin(dlat/2) + cos(lat1_rad) * cos(lat2_rad) * sin(dlon/2) * sin(dlon/2)\n",
    "  c = 2 * asin(sqrt(a))\n",
    "\n",
    "  # Distância em quilômetros\n",
    "  distance = c * EARTH_RADIUS\n",
    "\n",
    "  return distance"
   ]
  },
  {
   "cell_type": "code",
   "execution_count": 71,
   "id": "51538b1e-7a7f-4906-abf0-3c8e67924fc5",
   "metadata": {},
   "outputs": [
    {
     "name": "stdout",
     "output_type": "stream",
     "text": [
      "{'name': 'Santa Clara do Sul', 'uf': 43, 'lat': -29.4686024, 'lon': -52.0868635}\n",
      "{'name': 'Lajeado', 'uf': 43, 'lat': -29.4671522, 'lon': -51.9624046}\n",
      "{'name': 'Arroio do Meio', 'uf': 43, 'lat': -29.4020392, 'lon': -51.9444993}\n",
      "{'name': 'Teutônia', 'uf': 43, 'lat': -29.4816568, 'lon': -51.813752}\n",
      "{'name': 'Colinas', 'uf': 43, 'lat': -29.3866023, 'lon': -51.8697911}\n"
     ]
    }
   ],
   "source": [
    "def calcular_distancia(cidade1, cidade2):\n",
    "    lat1, lon1 = float(cidade1['lat']), float(cidade1['lon'])\n",
    "    lat2, lon2 = float(cidade2['lat']), float(cidade2['lon'])\n",
    "    return distancia_haversine(lat1, lon1, lat2, lon2)\n",
    "\n",
    "def retorna_lista_municios_raio(json_municipio, json_gigante, raio):\n",
    "    json_retorna=[]\n",
    "    for municipio in json_gigante:\n",
    "        if json_gigante[municipio] not in json_retorna:\n",
    "            if calcular_distancia(json_municipio, json_gigante[municipio])<=raio:\n",
    "                if json_gigante[municipio]['uf'] == json_municipio['uf']:\n",
    "                    _ = json_gigante[municipio]\n",
    "                    _['distance'] = calcular_distancia(json_municipio, json_gigante[municipio])\n",
    "                    json_retorna.append(_)\n",
    "    return json_retorna\n",
    "\n",
    "\n",
    "\n",
    "\n",
    "\n",
    "#print(calcular_distancia(json_busca(\"Lajeado\", json_gigante), json_busca(\"Bom Retiro do Sul\", json_gigante)))\n",
    "#print(json_busca(\"Lajeado\", json_gigante))\n",
    "#print(json_busca(\"Bom Retiro do Sul\", json_gigante))\n",
    "for i in (retorna_lista_municios_raio(json_busca(\"Lajeado\", json_gigante), json_gigante, 15)):\n",
    "    print(i)"
   ]
  },
  {
   "cell_type": "code",
   "execution_count": 1,
   "id": "08a9986a-8f99-4414-bd19-50c099b695f8",
   "metadata": {},
   "outputs": [
    {
     "name": "stdout",
     "output_type": "stream",
     "text": [
      "[{'id': 11, 'sigla': 'RO', 'nome': 'Rondônia', 'regiao': {'id': 1, 'sigla': 'N', 'nome': 'Norte'}}, {'id': 12, 'sigla': 'AC', 'nome': 'Acre', 'regiao': {'id': 1, 'sigla': 'N', 'nome': 'Norte'}}, {'id': 13, 'sigla': 'AM', 'nome': 'Amazonas', 'regiao': {'id': 1, 'sigla': 'N', 'nome': 'Norte'}}, {'id': 14, 'sigla': 'RR', 'nome': 'Roraima', 'regiao': {'id': 1, 'sigla': 'N', 'nome': 'Norte'}}, {'id': 15, 'sigla': 'PA', 'nome': 'Pará', 'regiao': {'id': 1, 'sigla': 'N', 'nome': 'Norte'}}, {'id': 16, 'sigla': 'AP', 'nome': 'Amapá', 'regiao': {'id': 1, 'sigla': 'N', 'nome': 'Norte'}}, {'id': 17, 'sigla': 'TO', 'nome': 'Tocantins', 'regiao': {'id': 1, 'sigla': 'N', 'nome': 'Norte'}}, {'id': 21, 'sigla': 'MA', 'nome': 'Maranhão', 'regiao': {'id': 2, 'sigla': 'NE', 'nome': 'Nordeste'}}, {'id': 22, 'sigla': 'PI', 'nome': 'Piauí', 'regiao': {'id': 2, 'sigla': 'NE', 'nome': 'Nordeste'}}, {'id': 23, 'sigla': 'CE', 'nome': 'Ceará', 'regiao': {'id': 2, 'sigla': 'NE', 'nome': 'Nordeste'}}, {'id': 24, 'sigla': 'RN', 'nome': 'Rio Grande do Norte', 'regiao': {'id': 2, 'sigla': 'NE', 'nome': 'Nordeste'}}, {'id': 25, 'sigla': 'PB', 'nome': 'Paraíba', 'regiao': {'id': 2, 'sigla': 'NE', 'nome': 'Nordeste'}}, {'id': 26, 'sigla': 'PE', 'nome': 'Pernambuco', 'regiao': {'id': 2, 'sigla': 'NE', 'nome': 'Nordeste'}}, {'id': 27, 'sigla': 'AL', 'nome': 'Alagoas', 'regiao': {'id': 2, 'sigla': 'NE', 'nome': 'Nordeste'}}, {'id': 28, 'sigla': 'SE', 'nome': 'Sergipe', 'regiao': {'id': 2, 'sigla': 'NE', 'nome': 'Nordeste'}}, {'id': 29, 'sigla': 'BA', 'nome': 'Bahia', 'regiao': {'id': 2, 'sigla': 'NE', 'nome': 'Nordeste'}}, {'id': 31, 'sigla': 'MG', 'nome': 'Minas Gerais', 'regiao': {'id': 3, 'sigla': 'SE', 'nome': 'Sudeste'}}, {'id': 32, 'sigla': 'ES', 'nome': 'Espírito Santo', 'regiao': {'id': 3, 'sigla': 'SE', 'nome': 'Sudeste'}}, {'id': 33, 'sigla': 'RJ', 'nome': 'Rio de Janeiro', 'regiao': {'id': 3, 'sigla': 'SE', 'nome': 'Sudeste'}}, {'id': 35, 'sigla': 'SP', 'nome': 'São Paulo', 'regiao': {'id': 3, 'sigla': 'SE', 'nome': 'Sudeste'}}, {'id': 41, 'sigla': 'PR', 'nome': 'Paraná', 'regiao': {'id': 4, 'sigla': 'S', 'nome': 'Sul'}}, {'id': 42, 'sigla': 'SC', 'nome': 'Santa Catarina', 'regiao': {'id': 4, 'sigla': 'S', 'nome': 'Sul'}}, {'id': 43, 'sigla': 'RS', 'nome': 'Rio Grande do Sul', 'regiao': {'id': 4, 'sigla': 'S', 'nome': 'Sul'}}, {'id': 50, 'sigla': 'MS', 'nome': 'Mato Grosso do Sul', 'regiao': {'id': 5, 'sigla': 'CO', 'nome': 'Centro-Oeste'}}, {'id': 51, 'sigla': 'MT', 'nome': 'Mato Grosso', 'regiao': {'id': 5, 'sigla': 'CO', 'nome': 'Centro-Oeste'}}, {'id': 52, 'sigla': 'GO', 'nome': 'Goiás', 'regiao': {'id': 5, 'sigla': 'CO', 'nome': 'Centro-Oeste'}}, {'id': 53, 'sigla': 'DF', 'nome': 'Distrito Federal', 'regiao': {'id': 5, 'sigla': 'CO', 'nome': 'Centro-Oeste'}}]\n"
     ]
    }
   ],
   "source": [
    "import requests\n",
    "url = 'https://servicodados.ibge.gov.br/api/v1/localidades/estados'\n",
    "resposta = requests.get(url)\n",
    "\n",
    "# Verifique se a requisição foi bem-sucedida\n",
    "if resposta.status_code == 200:\n",
    "    # Extraia o nome do município da resposta JSON\n",
    "    ufs = resposta.json()\n",
    "    print(ufs)\n",
    "    uf_dict={}\n",
    "    for i in ufs:\n",
    "        uf_dict[ufs[i['id']]=ufs[i['nome']]\n",
    "    print(uf_dict)"
   ]
  },
  {
   "cell_type": "code",
   "execution_count": 10,
   "id": "dfb4ffd3-c17f-4586-9bad-6c51cb42374b",
   "metadata": {},
   "outputs": [],
   "source": [
    "data = {'timeOfSearch': '33.419835805892944', 'Marques de Souza': {'data': [{'label': 'Padaria e Confeitaria Dannona', 'link': 'https://www.google.com/maps/place/Padaria+e+Confeitaria+Dannona/data=!4m7!3m6!1s0x951cf7281f035f11:0x5f1a8e8a2e27323a!8m2!3d-29.3267246!4d-52.0964465!16s%2Fg%2F11g3zcf46g!19sChIJEV8DHyj3HJUROjInLoqOGl8?authuser=0&hl=en&rclk=1', 'phone_number': None, 'tipo_de_negocio': 'Bakery'}, {'label': 'Padaria Marquesa', 'link': 'https://www.google.com/maps/place/Padaria+Marquesa/data=!4m7!3m6!1s0x951cf6cef3ede5bb:0x3ddf314e730037e9!8m2!3d-29.3261201!4d-52.0994384!16s%2Fg%2F11hb5wtr63!19sChIJu-Xt8872HJUR6TcAc04x3z0?authuser=0&hl=en&rclk=1', 'phone_number': None, 'tipo_de_negocio': 'Bakery', 'endereço': 'R. Brasil, 249'}, {'label': 'Padaria e Confeitaria Biscoito Café', 'link': 'https://www.google.com/maps/place/Padaria+e+Confeitaria+Biscoito+Caf%C3%A9/data=!4m7!3m6!1s0x951cf757f848a3af:0x1ce0440a80038b20!8m2!3d-29.3260472!4d-52.1001543!16s%2Fg%2F11n0v9hczw!19sChIJr6NI-Ff3HJURIIsDgApE4Bw?authuser=0&hl=en&rclk=1', 'phone_number': None, 'tipo_de_negocio': 'Bakery', 'endereço': 'R. Brasil, 156'}, {'label': 'Confeitaria Adriane Presser', 'link': 'https://www.google.com/maps/place/Confeitaria+Adriane+Presser/data=!4m7!3m6!1s0x951cf6c15adb7019:0xb59fe4ea76aa1b65!8m2!3d-29.3266759!4d-52.0937156!16s%2Fg%2F11gbl33jkd!19sChIJGXDbWsH2HJURZRuqdurkn7U?authuser=0&hl=en&rclk=1', 'phone_number': None, 'tipo_de_negocio': 'Confectionery', 'endereço': 'R. Dez de Novembro, 680'}], 'times': {'padarias+perto+de+Marques de Souza+43': 14.457785844802856}}, 'Fazenda Vilanova': {'data': [{'label': 'Padaria E Confeitaria Delicia De Cuca', 'link': 'https://www.google.com/maps/place/Padaria+E+Confeitaria+Delicia+De+Cuca/data=!4m7!3m6!1s0x951c777d564543c3:0x766fff3d8733efcc!8m2!3d-29.5899374!4d-51.8240682!16s%2Fg%2F11g10lhtnn!19sChIJw0NFVn13HJURzO8zhz3_b3Y?authuser=0&hl=en&rclk=1', 'phone_number': None, 'tipo_de_negocio': 'Bakery', 'endereço': 'R. Belo Horizonte, 40'}, {'label': 'PADARIA JANETE', 'link': 'https://www.google.com/maps/place/PADARIA+JANETE/data=!4m7!3m6!1s0x951c777bfcccc331:0x7b91bb4b20b2bc53!8m2!3d-29.5885004!4d-51.8235956!16s%2Fg%2F11tgdc_tx6!19sChIJMcPM_Ht3HJURU7yyIEu7kXs?authuser=0&hl=en&rclk=1', 'phone_number': None, 'tipo_de_negocio': 'Bakery'}, {'label': 'Sabrina Doces e Salgados', 'link': 'https://www.google.com/maps/place/Sabrina+Doces+e+Salgados/data=!4m7!3m6!1s0x951c7b7c1ac47da9:0x2d4dee151f779298!8m2!3d-29.5558601!4d-51.8542152!16s%2Fg%2F11scstq5_j!19sChIJqX3EGnx7HJURmJJ3HxXuTS0?authuser=0&hl=en&rclk=1', 'phone_number': None, 'tipo_de_negocio': 'Bakery', 'endereço': 'Estrada Geral'}, {'label': 'Sabrina Marmentini', 'link': 'https://www.google.com/maps/place/Sabrina+Marmentini/data=!4m7!3m6!1s0x951c7bd1fefa779f:0x2bb0993cf5be21b1!8m2!3d-29.5559687!4d-51.8539442!16s%2Fg%2F11tm_djfq5!19sChIJn3f6_tF7HJURsSG-9TyZsCs?authuser=0&hl=en&rclk=1', 'phone_number': None, 'tipo_de_negocio': 'Bakery'}], 'times': {'padarias+perto+de+Fazenda Vilanova+43': 14.993683338165283}}, 'Mato Leitão': {'data': [{'label': 'Padaria e Confeitaria Heissler', 'link': 'https://www.google.com/maps/place/Padaria+e+Confeitaria+Heissler/data=!4m7!3m6!1s0x951c8ea01c4b6239:0xa96aec63eeb0f5d9!8m2!3d-29.5224749!4d-52.1277262!16s%2Fg%2F1tf66n8b!19sChIJOWJLHKCOHJUR2fWw7mPsaqk?authuser=0&hl=en&rclk=1', 'phone_number': None, 'tipo_de_negocio': 'Bakery', 'endereço': 'R. Leopoldo Aluísio H, 448'}, {'label': 'Padaria Santa Inês', 'link': 'https://www.google.com/maps/place/Padaria+Santa+In%C3%AAs/data=!4m7!3m6!1s0x951c8ec4ea223b53:0x9b48c49bd698a34!8m2!3d-29.5467371!4d-52.120609!16s%2Fg%2F11bzsqy11b!19sChIJUzsi6sSOHJURNIppvUmMtAk?authuser=0&hl=en&rclk=1', 'phone_number': None, 'tipo_de_negocio': 'Bakery'}, {'label': 'Padaria central', 'link': 'https://www.google.com/maps/place/Padaria+central/data=!4m7!3m6!1s0x951c8fa1341b4f9f:0xa14774318a945a26!8m2!3d-29.5252649!4d-52.1277381!16s%2Fg%2F11k4nt27br!19sChIJn08bNKGPHJURJlqUijF0R6E?authuser=0&hl=en&rclk=1', 'phone_number': None, 'tipo_de_negocio': 'Bakery', 'endereço': 'R. Leopoldo Aluísio H, 767'}, {'label': 'Tia Ange doces e salgados', 'link': 'https://www.google.com/maps/place/Tia+Ange+doces+e+salgados/data=!4m7!3m6!1s0x951c8ddeb1681e81:0x946186ea67839f8!8m2!3d-29.5173067!4d-52.132199!16s%2Fg%2F11fp8h7qvk!19sChIJgR5osd6NHJUR-Dl4pm4YRgk?authuser=0&hl=en&rclk=1', 'phone_number': None, 'tipo_de_negocio': 'Confectionery', 'endereço': 'Rua João Germano hillesheim'}, {'label': 'Biscobom Alimentos', 'link': 'https://www.google.com/maps/place/Biscobom+Alimentos/data=!4m7!3m6!1s0x951c8c1f14b27d2b:0x823fe0c514fc9bdf!8m2!3d-29.5195268!4d-52.1273824!16s%2Fg%2F1v2f1pll!19sChIJK32yFB-MHJUR35v8FMXgP4I?authuser=0&hl=en&rclk=1', 'phone_number': None, 'tipo_de_negocio': 'Candy store', 'endereço': 'Rua Leopoldo A Hinterholz 190'}], 'times': {'padarias+perto+de+Mato Leitão+43': 15.228216648101807}}, 'Imigrante': {'data': [{'label': 'Nostra Gula', 'link': 'https://www.google.com/maps/place/Nostra+Gula/data=!4m7!3m6!1s0x951c6b8fc684d7d7:0x581f8fb121d72a33!8m2!3d-29.3546531!4d-51.775384!16s%2Fg%2F11rs9qpwc5!19sChIJ19eExo9rHJURMyrXIbGPH1g?authuser=0&hl=en&rclk=1', 'phone_number': None, 'tipo_de_negocio': 'Coffee shop', 'endereço': 'Av. Dr. Ito João Snel, 577'}, {'label': 'Café com Leite Cafeteria', 'link': 'https://www.google.com/maps/place/Caf%C3%A9+com+Leite+Cafeteria/data=!4m7!3m6!1s0x951c699f09db5211:0x94f04df826764101!8m2!3d-29.3542229!4d-51.7780018!16s%2Fg%2F11lbgrxb99!19sChIJEVLbCZ9pHJURAUF2JvhN8JQ?authuser=0&hl=en&rclk=1', 'phone_number': None, 'tipo_de_negocio': 'Coffee shop', 'endereço': 'Travessia Emilio Bucker - Av. Dr. Ito João Snel, 865 - sala 103'}, {'label': 'Dois Amores Doces e Salgados', 'link': 'https://www.google.com/maps/place/Dois+Amores+Doces+e+Salgados/data=!4m7!3m6!1s0x951c698559e5d52d:0x72e20c9661469197!8m2!3d-29.3543504!4d-51.7786517!16s%2Fg%2F11gb3r9zcg!19sChIJLdXlWYVpHJURl5FGYZYM4nI?authuser=0&hl=en&rclk=1', 'phone_number': None, 'tipo_de_negocio': 'Bakery', 'endereço': 'Av. Dr. Ito João Snel, 865 - sala 2'}, {'label': 'Padaria Imigrante', 'link': 'https://www.google.com/maps/place/Padaria+Imigrante/data=!4m7!3m6!1s0x951c178cb07c2c1f:0xc33f6951b53b9f1d!8m2!3d-29.2585546!4d-51.5213059!16s%2Fg%2F1yfjf17f_!19sChIJHyx8sIwXHJURHZ87tVFpP8M?authuser=0&hl=en&rclk=1', 'phone_number': None, 'tipo_de_negocio': 'Bakery', 'endereço': 'R. Vicente Faraon, 546'}, {'label': 'Padaria e Confeitaria Nais', 'link': 'https://www.google.com/maps/place/Padaria+e+Confeitaria+Nais/data=!4m7!3m6!1s0x951c6985599ddc61:0x31513a4ba573633b!8m2!3d-29.3543042!4d-51.7775235!16s%2Fg%2F11gcfsx0bn!19sChIJYdydWYVpHJURO2NzpUs6UTE?authuser=0&hl=en&rclk=1', 'phone_number': None, 'tipo_de_negocio': 'Bakery'}], 'times': {'padarias+perto+de+Imigrante+43': 15.525370359420776}}, 'Teutônia': {'data': [{'label': 'Padaria Delícia de Pão', 'link': 'https://www.google.com/maps/place/Padaria+Del%C3%ADcia+de+P%C3%A3o/data=!4m7!3m6!1s0x951c71cad723059d:0x2c89ae5f30940fca!8m2!3d-29.5116288!4d-51.8106477!16s%2Fg%2F1tdfd82d!19sChIJnQUj18pxHJURyg-UMF-uiSw?authuser=0&hl=en&rclk=1', 'phone_number': None, 'tipo_de_negocio': 'Bakery', 'endereço': 'R. Costa E Silva, 435'}, {'label': 'Pão e Cia', 'link': 'https://www.google.com/maps/place/P%C3%A3o+e+Cia/data=!4m7!3m6!1s0x951c6e2a3bb79ac9:0x4a3404c40881d58b!8m2!3d-29.5103607!4d-51.8057899!16s%2Fg%2F1tf9zlgr!19sChIJyZq3OypuHJURi9WBCMQENEo?authuser=0&hl=en&rclk=1', 'phone_number': None, 'tipo_de_negocio': 'Bakery', 'endereço': 'R. Carlos Arnt, 821'}, {'label': 'Padaria Doce Pão (Neuberger e Cia)', 'link': 'https://www.google.com/maps/place/Padaria+Doce+P%C3%A3o+%28Neuberger+e+Cia%29/data=!4m7!3m6!1s0x951c711e57190f9f:0xab7a2019286dfd07!8m2!3d-29.5180967!4d-51.8053501!16s%2Fg%2F11h07vp7jq!19sChIJnw8ZVx5xHJURB_1tKBkgeqs?authuser=0&hl=en&rclk=1', 'phone_number': None, 'tipo_de_negocio': 'Bakery', 'endereço': 'R. Carlos Arnt, 46'}, {'label': 'Padaria Alegria', 'link': 'https://www.google.com/maps/place/Padaria+Alegria/data=!4m7!3m6!1s0x951c6f898d6b20ef:0xe6e2a39ee5bbb401!8m2!3d-29.4712715!4d-51.8152046!16s%2Fg%2F11fp4q9vy4!19sChIJ7yBrjYlvHJURAbS75Z6j4uY?authuser=0&hl=en&rclk=1', 'phone_number': None, 'tipo_de_negocio': 'Bakery', 'endereço': 'R. Evaldo Hilgemann, 163'}, {'label': 'Shopping do Doce Gourmet', 'link': 'https://www.google.com/maps/place/Shopping+do+Doce+Gourmet/data=!4m7!3m6!1s0x951c6e4b076e6189:0x3bac7593bc983fa5!8m2!3d-29.469865!4d-51.8075179!16s%2Fg%2F1z44b27tn!19sChIJiWFuB0tuHJURpT-YvJN1rDs?authuser=0&hl=en&rclk=1', 'phone_number': None, 'tipo_de_negocio': 'Bakery', 'endereço': 'R. 7 de Setembro, 144'}], 'times': {'padarias+perto+de+Teutônia+43': 15.685706377029419}}, 'Colinas': {'data': [{'label': 'Padaria Paladar', 'link': 'https://www.google.com/maps/place/Padaria+Paladar/data=!4m7!3m6!1s0x951c67c8e233ca99:0x3ca29443fd284378!8m2!3d-29.3884033!4d-51.8689794!16s%2Fg%2F11f3zt0n2d!19sChIJmcoz4shnHJUReEMo_UOUojw?authuser=0&hl=en&rclk=1', 'phone_number': '+55 51 3760-1004', 'tipo_de_negocio': 'Bakery', 'endereço': 'R. Gen. Osório, 176'}, {'label': 'Grano Vitta', 'link': 'https://www.google.com/maps/place/Grano+Vitta/data=!4m7!3m6!1s0x951c67cf17214f09:0x9ed3c18995ddb64!8m2!3d-29.3857136!4d-51.8665367!16s%2Fg%2F11hbv91bl2!19sChIJCU8hF89nHJURZNtdmRg87Qk?authuser=0&hl=en&rclk=1', 'phone_number': '+55 51 3760-1058', 'tipo_de_negocio': 'Cafe', 'endereço': 'Rod. Rst-25 (Estrada Imigrante), 657'}, {'label': 'Thomas Kaffee Confeitaria', 'link': 'https://www.google.com/maps/place/Thomas+Kaffee+Confeitaria/data=!4m7!3m6!1s0x951c67d8680dcb75:0x4f916d61deefa964!8m2!3d-29.3890915!4d-51.8678757!16s%2Fg%2F11h_822ty5!19sChIJdcsNaNhnHJURZKnv3mFtkU8?authuser=0&hl=en&rclk=1', 'phone_number': '+55 51 99843-6095', 'tipo_de_negocio': 'Confectionery', 'endereço': 'R. Anton Brentano, 147'}], 'times': {'padarias+perto+de+Colinas+43': 15.967756748199463}}, 'Arroio do Meio': {'data': [{'label': 'Pedrotti Bakery', 'link': 'https://www.google.com/maps/place/Pedrotti+Bakery/data=!4m7!3m6!1s0x951c60c84921bb9f:0xb64e93ff6872df3d!8m2!3d-29.4021321!4d-51.9454223!16s%2Fg%2F11cscby3y0!19sChIJn7shSchgHJURPd9yaP-TTrY?authuser=0&hl=en&rclk=1', 'phone_number': None, 'tipo_de_negocio': 'Bakery', 'endereço': 'R. Visc. do Rio Branco, 636'}, {'label': 'Tudesca Padaria', 'link': 'https://www.google.com/maps/place/Tudesca+Padaria/data=!4m7!3m6!1s0x951c60c9acea93f3:0x1893fb1984f2a08c!8m2!3d-29.402567!4d-51.9449345!16s%2Fg%2F1thlp7hd!19sChIJ85PqrMlgHJURjKDyhBn7kxg?authuser=0&hl=en&rclk=1', 'phone_number': None, 'tipo_de_negocio': 'Bakery', 'endereço': 'R. Visc. do Rio Branco, 584'}, {'label': 'Bela Gourmet Padaria e Confeitaria', 'link': 'https://www.google.com/maps/place/Bela+Gourmet+Padaria+e+Confeitaria/data=!4m7!3m6!1s0x951c60baf0c04dff:0x573fad45dd5d3032!8m2!3d-29.3907624!4d-51.9512484!16s%2Fg%2F11f3rw9_7b!19sChIJ_03A8LpgHJURMjBd3UWtP1c?authuser=0&hl=en&rclk=1', 'phone_number': None, 'tipo_de_negocio': 'Bakery', 'endereço': 'R. Bela Vista'}, {'label': 'Panificadora Ana Bella', 'link': 'https://www.google.com/maps/place/Panificadora+Ana+Bella/data=!4m7!3m6!1s0x951c6102053d3d49:0x2234626cf044f364!8m2!3d-29.3923339!4d-51.9554703!16s%2Fg%2F11hzrnvyly!19sChIJST09BQJhHJURZPNE8GxiNCI?authuser=0&hl=en&rclk=1', 'phone_number': None, 'tipo_de_negocio': 'Bakery', 'endereço': 'R. Fridolino Kaufmann, 757'}, {'label': 'Bakery San Jose', 'link': 'https://www.google.com/maps/place/Bakery+San+Jose/data=!4m7!3m6!1s0x951c60c13eebbc97:0xd8724879f193944d!8m2!3d-29.4066688!4d-51.9535035!16s%2Fg%2F1tfffc4x!19sChIJl7zrPsFgHJURTZST8XlIctg?authuser=0&hl=en&rclk=1', 'phone_number': None, 'tipo_de_negocio': 'Bakery', 'endereço': 'R. Bruno Bersch, 551'}], 'times': {'padarias+perto+de+Arroio do Meio+43': 16.100526571273804}}, 'Lajeado': {'data': [{'label': 'Padaria Suíça - Matriz', 'link': 'https://www.google.com/maps/place/Padaria+Su%C3%AD%C3%A7a+-+Matriz/data=!4m7!3m6!1s0x951c617ace117c8d:0x7deea46c5d8269cc!8m2!3d-29.4587312!4d-51.9697014!16s%2Fg%2F1tjypx4n!19sChIJjXwRznphHJURzGmCXWyk7n0?authuser=0&hl=en&rclk=1', 'phone_number': None, 'tipo_de_negocio': 'Bakery', 'endereço': 'Av. Benjamin Constant, 1445'}, {'label': 'BAKERY SCHUH - Lajeado', 'link': 'https://www.google.com/maps/place/BAKERY+SCHUH+-+Lajeado/data=!4m7!3m6!1s0x951c61652709b69f:0x9964993a5ff65ea0!8m2!3d-29.4595568!4d-51.9683937!16s%2Fg%2F1tfqgznt!19sChIJn7YJJ2VhHJURoF72XzqZZJk?authuser=0&hl=en&rclk=1', 'phone_number': None, 'tipo_de_negocio': 'Bakery', 'endereço': 'R. Júlio de Castilhos, 1401'}, {'label': 'Pão Quente Lajeado - Padaria, Confeitaria e Café', 'link': 'https://www.google.com/maps/place/P%C3%A3o+Quente+Lajeado+-+Padaria,+Confeitaria+e+Caf%C3%A9/data=!4m7!3m6!1s0x951c616470fadcf7:0x967f337563953bfd!8m2!3d-29.4611448!4d-51.9651154!16s%2Fg%2F1yfdpfjkd!19sChIJ99z6cGRhHJUR_TuVY3Uzf5Y?authuser=0&hl=en&rclk=1', 'phone_number': None, 'tipo_de_negocio': 'Bakery', 'endereço': 'R. Bento Gonçalves, 1083'}, {'label': 'Padaria Tudesca', 'link': 'https://www.google.com/maps/place/Padaria+Tudesca/data=!4m7!3m6!1s0x951c6170eb0d1cd1:0xed97f0d31dbfa12d!8m2!3d-29.4568753!4d-51.9657747!16s%2Fg%2F11bxc7n2p_!19sChIJ0RwN63BhHJURLaG_HdPwl-0?authuser=0&hl=en&rclk=1', 'phone_number': None, 'tipo_de_negocio': 'Bakery', 'endereço': 'R. Pedro Albino Müller, 185'}, {'label': 'Padaria Suiça - Filial', 'link': 'https://www.google.com/maps/place/Padaria+Sui%C3%A7a+-+Filial/data=!4m7!3m6!1s0x951c61874169558d:0x428d9ff072b8b894!8m2!3d-29.447522!4d-51.9644952!16s%2Fg%2F11s9jxx2rs!19sChIJjVVpQYdhHJURlLi4cvCfjUI?authuser=0&hl=en&rclk=1', 'phone_number': None, 'tipo_de_negocio': 'Bakery', 'endereço': 'Av. Piraí'}], 'times': {'padarias+perto+de+Lajeado+43': 17.47582197189331}}, 'Bom Retiro do Sul': {'data': [{'label': 'Padaria Delícia de Pão', 'link': 'https://www.google.com/maps/place/Padaria+Del%C3%ADcia+de+P%C3%A3o/data=!4m7!3m6!1s0x951c7c0561156bfd:0x93d5099e40a39ba!8m2!3d-29.5978369!4d-51.9281214!16s%2Fg%2F1vvr7cfs!19sChIJ_WsVYQV8HJURujkK5JlQPQk?authuser=0&hl=en&rclk=1', 'phone_number': None, 'tipo_de_negocio': 'Bakery', 'endereço': 'R. Sen. Pinheiro Machado, 1879'}, {'label': 'RM Confecções e Confeitaria Delivery', 'link': 'https://www.google.com/maps/place/RM+Confec%C3%A7%C3%B5es+e+Confeitaria+Delivery/data=!4m7!3m6!1s0x951c7d772e83811f:0x8b1328e38571f1b2!8m2!3d-29.6042088!4d-51.9389987!16s%2Fg%2F11kg7gl38b!19sChIJH4GDLnd9HJURsvFxheMoE4s?authuser=0&hl=en&rclk=1', 'phone_number': None, 'tipo_de_negocio': 'Confectionery', 'endereço': 'R. Ernesto Dorneles'}, {'label': 'Bakery Sweet Temptation', 'link': 'https://www.google.com/maps/place/Bakery+Sweet+Temptation/data=!4m7!3m6!1s0x951c7bf5c09a8acb:0xf4162fcdead45689!8m2!3d-29.5986061!4d-51.9353942!16s%2Fg%2F11c2qxbhkm!19sChIJy4qawPV7HJURiVbU6s0vFvQ?authuser=0&hl=en&rclk=1', 'phone_number': None, 'tipo_de_negocio': 'Dessert', 'endereço': 'R. Max Lenger, 125'}, {'label': 'Patidodoce', 'link': 'https://www.google.com/maps/place/Patidodoce/data=!4m7!3m6!1s0x951c7d1bbc769d11:0xa788a54613f02adc!8m2!3d-29.594305!4d-51.939416!16s%2Fg%2F11l321czdz!19sChIJEZ12vBt9HJUR3CrwE0aliKc?authuser=0&hl=en&rclk=1', 'phone_number': None, 'tipo_de_negocio': 'Pastries', 'endereço': 'R. Bento José Labres, 861'}, {'label': 'Padaria e Confeitaria Jaque', 'link': 'https://www.google.com/maps/place/Padaria+e+Confeitaria+Jaque/data=!4m7!3m6!1s0x951c7df2a83a51eb:0x7575ce8954445660!8m2!3d-29.603891!4d-51.9403914!16s%2Fg%2F11h9mkstz4!19sChIJ61E6qPJ9HJURYFZEVInOdXU?authuser=0&hl=en&rclk=1', 'phone_number': None, 'tipo_de_negocio': 'Bakery', 'endereço': 'R. Antônio Moraes Viegas, 2-84'}], 'times': {'padarias+perto+de+Bom Retiro do Sul+43': 14.19580864906311}}, 'Forquetinha': {'data': [{'label': 'Padaria e Confeitaria Florestal', 'link': 'https://www.google.com/maps/place/Padaria+e+Confeitaria+Florestal/data=!4m7!3m6!1s0x951c617108e26a55:0x1e149c5e8b573dca!8m2!3d-29.4554978!4d-51.9715687!16s%2Fg%2F1tcyb1pj!19sChIJVWriCHFhHJURyj1Xi16cFB4?authuser=0&hl=en&rclk=1', 'phone_number': None, 'tipo_de_negocio': 'Bakery', 'endereço': 'R. Gen. Flores da Cunha, 33'}, {'label': 'Delicias Criativas', 'link': 'https://www.google.com/maps/place/Delicias+Criativas/data=!4m7!3m6!1s0x951cf3f031da8133:0x9077fa1439d4cc80!8m2!3d-29.3705494!4d-52.1162452!16s%2Fg%2F11gd21g5fd!19sChIJM4HaMfDzHJURgMzUORT6d5A?authuser=0&hl=en&rclk=1', 'phone_number': None, 'tipo_de_negocio': 'Cupcakes', 'endereço': 'Unnamed Road'}, {'label': 'Padaria Suíça - Matriz', 'link': 'https://www.google.com/maps/place/Padaria+Su%C3%AD%C3%A7a+-+Matriz/data=!4m7!3m6!1s0x951c617ace117c8d:0x7deea46c5d8269cc!8m2!3d-29.4587312!4d-51.9697014!16s%2Fg%2F1tjypx4n!19sChIJjXwRznphHJURzGmCXWyk7n0?authuser=0&hl=en&rclk=1', 'phone_number': None, 'tipo_de_negocio': 'Bakery', 'endereço': 'Av. Benjamin Constant, 1445'}, {'label': 'Ênio Fleck & Cia', 'link': 'https://www.google.com/maps/place/%C3%8Anio+Fleck+%26+Cia/data=!4m7!3m6!1s0x951c616d4f491d15:0xaaab035fce59e1b8!8m2!3d-29.4481601!4d-51.9675517!16s%2Fg%2F1tcxwdnv!19sChIJFR1JT21hHJURuOFZzl8Dq6o?authuser=0&hl=en&rclk=1', 'phone_number': None, 'tipo_de_negocio': 'Bakery', 'endereço': 'R. Maurício Cardoso, 317'}, {'label': 'Bakery and Confectionery Ki Bread', 'link': 'https://www.google.com/maps/place/Bakery+and+Confectionery+Ki+Bread/data=!4m7!3m6!1s0x951c61700de60453:0x41960294bdfc7b12!8m2!3d-29.4552321!4d-51.9692363!16s%2Fg%2F1tj9vhtb!19sChIJUwTmDXBhHJUREnv8vZQClkE?authuser=0&hl=en&rclk=1', 'phone_number': None, 'tipo_de_negocio': 'Bakery', 'endereço': 'R. Germano Berner, 886'}], 'times': {'padarias+perto+de+Forquetinha+43': 15.689776420593262}}, 'Paverama': {'data': [{'label': 'Padaria Confeitaria Ludwig', 'link': 'https://www.google.com/maps/place/Padaria+Confeitaria+Ludwig/data=!4m7!3m6!1s0x951c747a41b4391b:0x239c915b6ecda34c!8m2!3d-29.5526305!4d-51.73453!16s%2Fg%2F11crzjgz_n!19sChIJGzm0QXp0HJURTKPNbluRnCM?authuser=0&hl=en&rclk=1', 'phone_number': None, 'tipo_de_negocio': 'Bakery', 'endereço': 'R. José Jantsch Filho, 2086'}, {'label': 'Padaria e Confeitaria Diemer', 'link': 'https://www.google.com/maps/place/Padaria+e+Confeitaria+Diemer/data=!4m7!3m6!1s0x951c75a79b4a3413:0x67be0cbaeaf3b169!8m2!3d-29.5515997!4d-51.736001!16s%2Fg%2F11jgd9npx6!19sChIJEzRKm6d1HJURabHz6roMvmc?authuser=0&hl=en&rclk=1', 'phone_number': None, 'tipo_de_negocio': 'Bakery', 'endereço': 'R. Quatro de Julho, 7120'}, {'label': 'Salgados da Jana', 'link': 'https://www.google.com/maps/place/Salgados+da+Jana/data=!4m7!3m6!1s0x951c752c781d8fff:0xe3f8d7fc36e52809!8m2!3d-29.5516351!4d-51.7307457!16s%2Fg%2F11s4y887wm!19sChIJ_48deCx1HJURCSjlNvzX-OM?authuser=0&hl=en&rclk=1', 'phone_number': None, 'tipo_de_negocio': 'Bakery', 'endereço': 'R. Quatro de Julho, 7650'}], 'times': {'padarias+perto+de+Paverama+43': 15.06466269493103}}, 'Westfália': {'data': [{'label': 'Padaria e Confeitaria Giru', 'link': 'https://www.google.com/maps/place/Padaria+e+Confeitaria+Giru/data=!4m7!3m6!1s0x951c6c27b6eada79:0xb2f5957348da455e!8m2!3d-29.4287972!4d-51.766893!16s%2Fg%2F1yfjl9xyt!19sChIJedrqtidsHJURXkXaSHOV9bI?authuser=0&hl=en&rclk=1', 'phone_number': '+55 51 99755-5147', 'tipo_de_negocio': 'Bakery', 'endereço': 'R. Reinoldo Dahmer, 178'}, {'label': 'Padaria e Pizzaria Paisandú', 'link': 'https://www.google.com/maps/place/Padaria+e+Pizzaria+Paisand%C3%BA/data=!4m7!3m6!1s0x951c6c9338066e6d:0xaec1ff2bbf223991!8m2!3d-29.4000472!4d-51.7110841!16s%2Fg%2F11dxb2s7s2!19sChIJbW4GOJNsHJURkTkivyv_wa4?authuser=0&hl=en&rclk=1', 'phone_number': '+55 51 99910-7993', 'tipo_de_negocio': 'Pizza', 'endereço': 'Linha Paisandu'}, {'label': 'Bom pão panificadora', 'link': 'https://www.google.com/maps/place/Bom+p%C3%A3o+panificadora/data=!4m7!3m6!1s0x951c6f990d54ff6b:0xf5a567bdc15bacb1!8m2!3d-29.4654155!4d-51.7757332!16s%2Fg%2F11r_dwt4gj!19sChIJa_9UDZlvHJURsaxbwb1npfU?authuser=0&hl=en&rclk=1', 'phone_number': None, 'tipo_de_negocio': 'Bakery'}, {'label': 'PADARIA BUTH', 'link': 'https://www.google.com/maps/place/PADARIA+BUTH/data=!4m7!3m6!1s0x951c6f7393aae365:0xed6b42edd9ec62d!8m2!3d-29.4469453!4d-51.7874752!16s%2Fg%2F11j8p5hwjp!19sChIJZeOqk3NvHJURLcae3S601g4?authuser=0&hl=en&rclk=1', 'phone_number': None, 'tipo_de_negocio': 'Bakery', 'endereço': 'R. Maurício Cardoso, 2390'}, {'label': 'Minimercado e Padaria GH Center', 'link': 'https://www.google.com/maps/place/Minimercado+e+Padaria+GH+Center/data=!4m7!3m6!1s0x951c6c1fc81eb19b:0x8cb61b216fdb0a32!8m2!3d-29.4176255!4d-51.7665542!16s%2Fg%2F11bymv8zvb!19sChIJm7EeyB9sHJURMgrbbyEbtow?authuser=0&hl=en&rclk=1', 'phone_number': '+55 51 3762-4473', 'tipo_de_negocio': 'Market', 'endereço': 'R. Henrique Uebel, 401'}, {'label': 'La Farfalla Confeitaria Artesanal', 'link': 'https://www.google.com/maps/place/La+Farfalla+Confeitaria+Artesanal/data=!4m7!3m6!1s0x8a94ea070465edab:0x8a8b25be3026bdc!8m2!3d-29.4440211!4d-51.7629192!16s%2Fg%2F11tffc9r60!19sChIJq-1lBAfqlIoR3GsC41uyqAg?authuser=0&hl=en&rclk=1', 'phone_number': '+55 51 99898-3471', 'tipo_de_negocio': 'Confectionery'}], 'times': {'padarias+perto+de+Westfália+43': 15.764747619628906}}, 'Roca Sales': {'data': [{'label': 'Toque Especial Confeitaria Roca Sales', 'link': 'https://www.google.com/maps/place/Toque+Especial+Confeitaria+Roca+Sales/data=!4m7!3m6!1s0x951c5d56fc727875:0x60989e53b36b355f!8m2!3d-29.2831446!4d-51.8668104!16s%2Fg%2F11rkp7y85c!19sChIJdXhy_FZdHJURXzVrs1OemGA?authuser=0&hl=en&rclk=1', 'phone_number': '+55 51 99781-5941', 'tipo_de_negocio': 'Confectionery', 'endereço': 'R. Anselmo, 288'}, {'label': 'Padaria Schwarz', 'link': 'https://www.google.com/maps/place/Padaria+Schwarz/data=!4m7!3m6!1s0x951c5c9819214d6f:0xeb34639c399c3e8b!8m2!3d-29.2874783!4d-51.8745466!16s%2Fg%2F11thlx1r00!19sChIJb00hGZhcHJURiz6cOZxjNOs?authuser=0&hl=en&rclk=1', 'phone_number': '+55 51 3753-2065', 'tipo_de_negocio': 'Bakery'}, {'label': 'La Casa das Tortas', 'link': 'https://www.google.com/maps/place/La+Casa+das+Tortas/data=!4m7!3m6!1s0x951c5df39bcf244f:0x3d68f8a61db34c8a!8m2!3d-29.2882543!4d-51.8751266!16s%2Fg%2F11r_mg2zgg!19sChIJTyTPm_NdHJURikyzHab4aD0?authuser=0&hl=en&rclk=1', 'phone_number': None, 'tipo_de_negocio': 'Confectionery', 'endereço': 'R. Cândido Giongo, N° 21 - sala 01'}, {'label': 'Ylafte confeitaria', 'link': 'https://www.google.com/maps/place/Ylafte+confeitaria/data=!4m7!3m6!1s0x951c5d4bf491e6db:0xf0fbccc1eb04b85c!8m2!3d-29.282489!4d-51.8690584!16s%2Fg%2F11sd9mhhjr!19sChIJ2-aR9EtdHJURXLgE68HM-_A?authuser=0&hl=en&rclk=1', 'phone_number': None, 'tipo_de_negocio': 'Cake shop', 'endereço': 'R. Gen. Osório, 248'}], 'times': {'padarias+perto+de+Roca Sales+43': 15.182174444198608}}, 'Travesseiro': {'data': [{'label': 'Delícias Jo - Padaria e Confeitaria', 'link': 'https://www.google.com/maps/place/Del%C3%ADcias+Jo+-+Padaria+e+Confeitaria/data=!4m7!3m6!1s0x951cf6f57bb81a81:0x5dddb8d932c04e28!8m2!3d-29.3194485!4d-52.0643774!16s%2Fg%2F11f0l4bbbc!19sChIJgRq4e_X2HJURKE7AMtm43V0?authuser=0&hl=en&rclk=1', 'phone_number': None, 'tipo_de_negocio': 'Bakery', 'endereço': 'Av. 10 de Novembro'}, {'label': 'Padaria e Confeitaria Berlim', 'link': 'https://www.google.com/maps/place/Padaria+e+Confeitaria+Berlim/data=!4m7!3m6!1s0x951cf75a23412539:0x20f0fcf0cbdc5858!8m2!3d-29.3208072!4d-52.0651679!16s%2Fg%2F11s8r72tly!19sChIJOSVBI1r3HJURWFjcy_D88CA?authuser=0&hl=en&rclk=1', 'phone_number': None, 'tipo_de_negocio': 'Bakery', 'endereço': 'Av. 10 de Novembro, 1193'}], 'times': {'padarias+perto+de+Travesseiro+43': 14.842205286026001}}, 'Santa Clara do Sul': {'data': [{'label': 'Padaria e Confeitaria Cia do Pão', 'link': 'https://www.google.com/maps/place/Padaria+e+Confeitaria+Cia+do+P%C3%A3o/data=!4m7!3m6!1s0x951c8b9e35ce2c71:0x28ee3f6eafefa055!8m2!3d-29.4691853!4d-52.0884666!16s%2Fg%2F11f1220nkk!19sChIJcSzONZ6LHJURVaDvr24_7ig?authuser=0&hl=en&rclk=1', 'phone_number': '+55 51 99682-5593', 'tipo_de_negocio': 'Bakery', 'endereço': 'Av. 28 de Maio, 1277'}, {'label': 'Wolpre Alimentos', 'link': 'https://www.google.com/maps/place/Wolpre+Alimentos/data=!4m7!3m6!1s0x951c8bf968aef6cd:0x66e04d3f57ed6256!8m2!3d-29.4697593!4d-52.0889058!16s%2Fg%2F11h1lqqdyc!19sChIJzfauaPmLHJURVmLtVz9N4GY?authuser=0&hl=en&rclk=1', 'phone_number': '+55 51 99995-0610', 'tipo_de_negocio': 'Bakery', 'endereço': 'R. 2 de Novembro, 268'}], 'times': {'padarias+perto+de+Santa Clara do Sul+43': 15.886353254318237}}, 'Arroio Grande': {'data': [{'label': 'Panificadora do Sul', 'link': 'https://www.google.com/maps/place/Panificadora+do+Sul/data=!4m7!3m6!1s0x950e40e2ac234a97:0x34adaa85a2c21dc1!8m2!3d-32.236063!4d-53.0836508!16s%2Fg%2F1tcw4sq2!19sChIJl0ojrOJADpURwR3CooWqrTQ?authuser=0&hl=en&rclk=1', 'phone_number': None, 'tipo_de_negocio': 'Bakery', 'endereço': 'R. Máximo Pereira, 421'}, {'label': 'Padaria Dona Farinha', 'link': 'https://www.google.com/maps/place/Padaria+Dona+Farinha/data=!4m7!3m6!1s0x950e40fbcea8d613:0x82081cd22d251523!8m2!3d-32.2387743!4d-53.0810621!16s%2Fg%2F11cjh_8r8n!19sChIJE9aozvtADpURIxUlLdIcCII?authuser=0&hl=en&rclk=1', 'phone_number': None, 'tipo_de_negocio': 'Bakery', 'endereço': 'Av. Visc. de Mauá, 711'}, {'label': \"FAMINTU'S Restautante, Padaria, Confeitaria e Cafeteria\", 'link': 'https://www.google.com/maps/place/FAMINTU%27S+Restautante,+Padaria,+Confeitaria+e+Cafeteria/data=!4m7!3m6!1s0x950e40e4d52b5705:0x5baeed6e85ee8827!8m2!3d-32.234638!4d-53.081023!16s%2Fg%2F11f0889jtm!19sChIJBVcr1eRADpURJ4juhW7trls?authuser=0&hl=en&rclk=1', 'phone_number': None, 'tipo_de_negocio': 'Bakery', 'endereço': 'R. Gen. Osório, 555'}, {'label': 'Panificadora Delícias do Sul', 'link': 'https://www.google.com/maps/place/Panificadora+Del%C3%ADcias+do+Sul/data=!4m7!3m6!1s0x950e413ad35cd9d1:0x1e77a14745c295ee!8m2!3d-32.2417164!4d-53.0813471!16s%2Fg%2F11jwfb6kk8!19sChIJ0dlc0zpBDpUR7pXCRUehdx4?authuser=0&hl=en&rclk=1', 'phone_number': None, 'tipo_de_negocio': 'Bakery', 'endereço': 'R. Herculano de Freitas'}, {'label': 'Padaria Flor de Lis', 'link': 'https://www.google.com/maps/place/Padaria+Flor+de+Lis/data=!4m7!3m6!1s0x950e41800f77d551:0x86e23baa5f48c6!8m2!3d-32.2435083!4d-53.0751673!16s%2Fg%2F11tf5g3szr!19sChIJUdV3D4BBDpURxkhfqjvihgA?authuser=0&hl=en&rclk=1', 'phone_number': None, 'tipo_de_negocio': 'Bakery', 'endereço': 'R. Henrique Dias, 41'}, {'label': 'Panificadora Lisboa', 'link': 'https://www.google.com/maps/place/Panificadora+Lisboa/data=!4m7!3m6!1s0x950e418a8b2d0133:0xd48a17034d610786!8m2!3d-32.234181!4d-53.0831187!16s%2Fg%2F11k4lby84b!19sChIJMwEti4pBDpURhgdhTQMXitQ?authuser=0&hl=en&rclk=1', 'phone_number': None, 'tipo_de_negocio': 'Bakery', 'endereço': 'R. Gen. Osório, 369'}, {'label': 'Padaria Doce Pan', 'link': 'https://www.google.com/maps/place/Padaria+Doce+Pan/data=!4m7!3m6!1s0x951ca3a0bdd8621b:0x612dbbb3b7ec7766!8m2!3d-29.7380888!4d-52.4208935!16s%2Fg%2F11f0kfgtlt!19sChIJG2LYvaCjHJURZnfst7O7LWE?authuser=0&hl=en&rclk=1', 'phone_number': None, 'tipo_de_negocio': 'Bakery', 'endereço': 'Rua Padre Reus, 349, Arroio Grande, Santa Cruz do Sul, cep 96830236,RS, R. Gen. Daltro Filho, 990'}, {'label': 'loucos por pao caseiro', 'link': 'https://www.google.com/maps/place/loucos+por+pao+caseiro/data=!4m7!3m6!1s0x950e411dcbcf5b03:0x321767d4c0462363!8m2!3d-32.233239!4d-53.0832196!16s%2Fg%2F11rsp0z2x_!19sChIJA1vPyx1BDpURYyNGwNRnFzI?authuser=0&hl=en&rclk=1', 'phone_number': None, 'tipo_de_negocio': 'Bakery', 'endereço': 'R. Joaquim Manoel Soares'}, {'label': 'Padaria Mundo Doce', 'link': 'https://www.google.com/maps/place/Padaria+Mundo+Doce/data=!4m7!3m6!1s0x950e410302d9d9ab:0x14252ca3271539a8!8m2!3d-32.2299072!4d-53.0751072!16s%2Fg%2F11l27_vw3c!19sChIJq9nZAgNBDpURqDkVJ6MsJRQ?authuser=0&hl=en&rclk=1', 'phone_number': None, 'tipo_de_negocio': 'Bakery', 'endereço': 'R. Hermes Conceição, 75'}], 'times': {'padarias+perto+de+Arroio Grande+43': 14.890346050262451}}}\n"
   ]
  },
  {
   "cell_type": "code",
   "execution_count": 8,
   "id": "bde14cb2-e60c-4ca8-9acb-8d1096fec87b",
   "metadata": {},
   "outputs": [
    {
     "name": "stdout",
     "output_type": "stream",
     "text": [
      "{'label': 'Padaria e Confeitaria Dannona', 'link': 'https://www.google.com/maps/place/Padaria+e+Confeitaria+Dannona/data=!4m7!3m6!1s0x951cf7281f035f11:0x5f1a8e8a2e27323a!8m2!3d-29.3267246!4d-52.0964465!16s%2Fg%2F11g3zcf46g!19sChIJEV8DHyj3HJUROjInLoqOGl8?authuser=0&hl=en&rclk=1', 'phone_number': None, 'tipo_de_negocio': 'Bakery'}\n",
      "{'label': 'Padaria Marquesa', 'link': 'https://www.google.com/maps/place/Padaria+Marquesa/data=!4m7!3m6!1s0x951cf6cef3ede5bb:0x3ddf314e730037e9!8m2!3d-29.3261201!4d-52.0994384!16s%2Fg%2F11hb5wtr63!19sChIJu-Xt8872HJUR6TcAc04x3z0?authuser=0&hl=en&rclk=1', 'phone_number': None, 'tipo_de_negocio': 'Bakery', 'endereço': 'R. Brasil, 249'}\n",
      "{'label': 'Padaria e Confeitaria Biscoito Café', 'link': 'https://www.google.com/maps/place/Padaria+e+Confeitaria+Biscoito+Caf%C3%A9/data=!4m7!3m6!1s0x951cf757f848a3af:0x1ce0440a80038b20!8m2!3d-29.3260472!4d-52.1001543!16s%2Fg%2F11n0v9hczw!19sChIJr6NI-Ff3HJURIIsDgApE4Bw?authuser=0&hl=en&rclk=1', 'phone_number': None, 'tipo_de_negocio': 'Bakery', 'endereço': 'R. Brasil, 156'}\n",
      "{'label': 'Confeitaria Adriane Presser', 'link': 'https://www.google.com/maps/place/Confeitaria+Adriane+Presser/data=!4m7!3m6!1s0x951cf6c15adb7019:0xb59fe4ea76aa1b65!8m2!3d-29.3266759!4d-52.0937156!16s%2Fg%2F11gbl33jkd!19sChIJGXDbWsH2HJURZRuqdurkn7U?authuser=0&hl=en&rclk=1', 'phone_number': None, 'tipo_de_negocio': 'Confectionery', 'endereço': 'R. Dez de Novembro, 680'}\n"
     ]
    }
   ],
   "source": [
    "lista_saida=[]\n",
    "for i in data:\n",
    "    if i != \"timeOfSearch\":\n",
    "        municipio = i\n",
    "        for dado in data[i]['data']:    \n",
    "            print(dado)\n",
    "        break"
   ]
  },
  {
   "cell_type": "code",
   "execution_count": 21,
   "id": "eb103af2-8d44-45d7-bfa6-4f934ad74cd4",
   "metadata": {},
   "outputs": [
    {
     "name": "stdout",
     "output_type": "stream",
     "text": [
      "{'label': 'Padaria e Confeitaria Dannona', 'link': 'https://www.google.com/maps/place/Padaria+e+Confeitaria+Dannona/data=!4m7!3m6!1s0x951cf7281f035f11:0x5f1a8e8a2e27323a!8m2!3d-29.3267246!4d-52.0964465!16s%2Fg%2F11g3zcf46g!19sChIJEV8DHyj3HJUROjInLoqOGl8?authuser=0&hl=en&rclk=1', 'phone_number': None, 'tipo_de_negocio': 'Bakery'}\n",
      "{'label': 'Padaria Marquesa', 'link': 'https://www.google.com/maps/place/Padaria+Marquesa/data=!4m7!3m6!1s0x951cf6cef3ede5bb:0x3ddf314e730037e9!8m2!3d-29.3261201!4d-52.0994384!16s%2Fg%2F11hb5wtr63!19sChIJu-Xt8872HJUR6TcAc04x3z0?authuser=0&hl=en&rclk=1', 'phone_number': None, 'tipo_de_negocio': 'Bakery', 'endereço': 'R. Brasil, 249'}\n",
      "{'label': 'Padaria e Confeitaria Biscoito Café', 'link': 'https://www.google.com/maps/place/Padaria+e+Confeitaria+Biscoito+Caf%C3%A9/data=!4m7!3m6!1s0x951cf757f848a3af:0x1ce0440a80038b20!8m2!3d-29.3260472!4d-52.1001543!16s%2Fg%2F11n0v9hczw!19sChIJr6NI-Ff3HJURIIsDgApE4Bw?authuser=0&hl=en&rclk=1', 'phone_number': None, 'tipo_de_negocio': 'Bakery', 'endereço': 'R. Brasil, 156'}\n",
      "{'label': 'Confeitaria Adriane Presser', 'link': 'https://www.google.com/maps/place/Confeitaria+Adriane+Presser/data=!4m7!3m6!1s0x951cf6c15adb7019:0xb59fe4ea76aa1b65!8m2!3d-29.3266759!4d-52.0937156!16s%2Fg%2F11gbl33jkd!19sChIJGXDbWsH2HJURZRuqdurkn7U?authuser=0&hl=en&rclk=1', 'phone_number': None, 'tipo_de_negocio': 'Confectionery', 'endereço': 'R. Dez de Novembro, 680'}\n",
      "{'label': 'Padaria E Confeitaria Delicia De Cuca', 'link': 'https://www.google.com/maps/place/Padaria+E+Confeitaria+Delicia+De+Cuca/data=!4m7!3m6!1s0x951c777d564543c3:0x766fff3d8733efcc!8m2!3d-29.5899374!4d-51.8240682!16s%2Fg%2F11g10lhtnn!19sChIJw0NFVn13HJURzO8zhz3_b3Y?authuser=0&hl=en&rclk=1', 'phone_number': None, 'tipo_de_negocio': 'Bakery', 'endereço': 'R. Belo Horizonte, 40'}\n",
      "{'label': 'PADARIA JANETE', 'link': 'https://www.google.com/maps/place/PADARIA+JANETE/data=!4m7!3m6!1s0x951c777bfcccc331:0x7b91bb4b20b2bc53!8m2!3d-29.5885004!4d-51.8235956!16s%2Fg%2F11tgdc_tx6!19sChIJMcPM_Ht3HJURU7yyIEu7kXs?authuser=0&hl=en&rclk=1', 'phone_number': None, 'tipo_de_negocio': 'Bakery'}\n",
      "{'label': 'Sabrina Doces e Salgados', 'link': 'https://www.google.com/maps/place/Sabrina+Doces+e+Salgados/data=!4m7!3m6!1s0x951c7b7c1ac47da9:0x2d4dee151f779298!8m2!3d-29.5558601!4d-51.8542152!16s%2Fg%2F11scstq5_j!19sChIJqX3EGnx7HJURmJJ3HxXuTS0?authuser=0&hl=en&rclk=1', 'phone_number': None, 'tipo_de_negocio': 'Bakery', 'endereço': 'Estrada Geral'}\n",
      "{'label': 'Sabrina Marmentini', 'link': 'https://www.google.com/maps/place/Sabrina+Marmentini/data=!4m7!3m6!1s0x951c7bd1fefa779f:0x2bb0993cf5be21b1!8m2!3d-29.5559687!4d-51.8539442!16s%2Fg%2F11tm_djfq5!19sChIJn3f6_tF7HJURsSG-9TyZsCs?authuser=0&hl=en&rclk=1', 'phone_number': None, 'tipo_de_negocio': 'Bakery'}\n",
      "{'label': 'Padaria e Confeitaria Heissler', 'link': 'https://www.google.com/maps/place/Padaria+e+Confeitaria+Heissler/data=!4m7!3m6!1s0x951c8ea01c4b6239:0xa96aec63eeb0f5d9!8m2!3d-29.5224749!4d-52.1277262!16s%2Fg%2F1tf66n8b!19sChIJOWJLHKCOHJUR2fWw7mPsaqk?authuser=0&hl=en&rclk=1', 'phone_number': None, 'tipo_de_negocio': 'Bakery', 'endereço': 'R. Leopoldo Aluísio H, 448'}\n",
      "{'label': 'Padaria Santa Inês', 'link': 'https://www.google.com/maps/place/Padaria+Santa+In%C3%AAs/data=!4m7!3m6!1s0x951c8ec4ea223b53:0x9b48c49bd698a34!8m2!3d-29.5467371!4d-52.120609!16s%2Fg%2F11bzsqy11b!19sChIJUzsi6sSOHJURNIppvUmMtAk?authuser=0&hl=en&rclk=1', 'phone_number': None, 'tipo_de_negocio': 'Bakery'}\n",
      "{'label': 'Padaria central', 'link': 'https://www.google.com/maps/place/Padaria+central/data=!4m7!3m6!1s0x951c8fa1341b4f9f:0xa14774318a945a26!8m2!3d-29.5252649!4d-52.1277381!16s%2Fg%2F11k4nt27br!19sChIJn08bNKGPHJURJlqUijF0R6E?authuser=0&hl=en&rclk=1', 'phone_number': None, 'tipo_de_negocio': 'Bakery', 'endereço': 'R. Leopoldo Aluísio H, 767'}\n",
      "{'label': 'Tia Ange doces e salgados', 'link': 'https://www.google.com/maps/place/Tia+Ange+doces+e+salgados/data=!4m7!3m6!1s0x951c8ddeb1681e81:0x946186ea67839f8!8m2!3d-29.5173067!4d-52.132199!16s%2Fg%2F11fp8h7qvk!19sChIJgR5osd6NHJUR-Dl4pm4YRgk?authuser=0&hl=en&rclk=1', 'phone_number': None, 'tipo_de_negocio': 'Confectionery', 'endereço': 'Rua João Germano hillesheim'}\n",
      "{'label': 'Biscobom Alimentos', 'link': 'https://www.google.com/maps/place/Biscobom+Alimentos/data=!4m7!3m6!1s0x951c8c1f14b27d2b:0x823fe0c514fc9bdf!8m2!3d-29.5195268!4d-52.1273824!16s%2Fg%2F1v2f1pll!19sChIJK32yFB-MHJUR35v8FMXgP4I?authuser=0&hl=en&rclk=1', 'phone_number': None, 'tipo_de_negocio': 'Candy store', 'endereço': 'Rua Leopoldo A Hinterholz 190'}\n",
      "{'label': 'Nostra Gula', 'link': 'https://www.google.com/maps/place/Nostra+Gula/data=!4m7!3m6!1s0x951c6b8fc684d7d7:0x581f8fb121d72a33!8m2!3d-29.3546531!4d-51.775384!16s%2Fg%2F11rs9qpwc5!19sChIJ19eExo9rHJURMyrXIbGPH1g?authuser=0&hl=en&rclk=1', 'phone_number': None, 'tipo_de_negocio': 'Coffee shop', 'endereço': 'Av. Dr. Ito João Snel, 577'}\n",
      "{'label': 'Café com Leite Cafeteria', 'link': 'https://www.google.com/maps/place/Caf%C3%A9+com+Leite+Cafeteria/data=!4m7!3m6!1s0x951c699f09db5211:0x94f04df826764101!8m2!3d-29.3542229!4d-51.7780018!16s%2Fg%2F11lbgrxb99!19sChIJEVLbCZ9pHJURAUF2JvhN8JQ?authuser=0&hl=en&rclk=1', 'phone_number': None, 'tipo_de_negocio': 'Coffee shop', 'endereço': 'Travessia Emilio Bucker - Av. Dr. Ito João Snel, 865 - sala 103'}\n",
      "{'label': 'Dois Amores Doces e Salgados', 'link': 'https://www.google.com/maps/place/Dois+Amores+Doces+e+Salgados/data=!4m7!3m6!1s0x951c698559e5d52d:0x72e20c9661469197!8m2!3d-29.3543504!4d-51.7786517!16s%2Fg%2F11gb3r9zcg!19sChIJLdXlWYVpHJURl5FGYZYM4nI?authuser=0&hl=en&rclk=1', 'phone_number': None, 'tipo_de_negocio': 'Bakery', 'endereço': 'Av. Dr. Ito João Snel, 865 - sala 2'}\n",
      "{'label': 'Padaria Imigrante', 'link': 'https://www.google.com/maps/place/Padaria+Imigrante/data=!4m7!3m6!1s0x951c178cb07c2c1f:0xc33f6951b53b9f1d!8m2!3d-29.2585546!4d-51.5213059!16s%2Fg%2F1yfjf17f_!19sChIJHyx8sIwXHJURHZ87tVFpP8M?authuser=0&hl=en&rclk=1', 'phone_number': None, 'tipo_de_negocio': 'Bakery', 'endereço': 'R. Vicente Faraon, 546'}\n",
      "{'label': 'Padaria e Confeitaria Nais', 'link': 'https://www.google.com/maps/place/Padaria+e+Confeitaria+Nais/data=!4m7!3m6!1s0x951c6985599ddc61:0x31513a4ba573633b!8m2!3d-29.3543042!4d-51.7775235!16s%2Fg%2F11gcfsx0bn!19sChIJYdydWYVpHJURO2NzpUs6UTE?authuser=0&hl=en&rclk=1', 'phone_number': None, 'tipo_de_negocio': 'Bakery'}\n",
      "{'label': 'Padaria Delícia de Pão', 'link': 'https://www.google.com/maps/place/Padaria+Del%C3%ADcia+de+P%C3%A3o/data=!4m7!3m6!1s0x951c71cad723059d:0x2c89ae5f30940fca!8m2!3d-29.5116288!4d-51.8106477!16s%2Fg%2F1tdfd82d!19sChIJnQUj18pxHJURyg-UMF-uiSw?authuser=0&hl=en&rclk=1', 'phone_number': None, 'tipo_de_negocio': 'Bakery', 'endereço': 'R. Costa E Silva, 435'}\n",
      "{'label': 'Pão e Cia', 'link': 'https://www.google.com/maps/place/P%C3%A3o+e+Cia/data=!4m7!3m6!1s0x951c6e2a3bb79ac9:0x4a3404c40881d58b!8m2!3d-29.5103607!4d-51.8057899!16s%2Fg%2F1tf9zlgr!19sChIJyZq3OypuHJURi9WBCMQENEo?authuser=0&hl=en&rclk=1', 'phone_number': None, 'tipo_de_negocio': 'Bakery', 'endereço': 'R. Carlos Arnt, 821'}\n",
      "{'label': 'Padaria Doce Pão (Neuberger e Cia)', 'link': 'https://www.google.com/maps/place/Padaria+Doce+P%C3%A3o+%28Neuberger+e+Cia%29/data=!4m7!3m6!1s0x951c711e57190f9f:0xab7a2019286dfd07!8m2!3d-29.5180967!4d-51.8053501!16s%2Fg%2F11h07vp7jq!19sChIJnw8ZVx5xHJURB_1tKBkgeqs?authuser=0&hl=en&rclk=1', 'phone_number': None, 'tipo_de_negocio': 'Bakery', 'endereço': 'R. Carlos Arnt, 46'}\n",
      "{'label': 'Padaria Alegria', 'link': 'https://www.google.com/maps/place/Padaria+Alegria/data=!4m7!3m6!1s0x951c6f898d6b20ef:0xe6e2a39ee5bbb401!8m2!3d-29.4712715!4d-51.8152046!16s%2Fg%2F11fp4q9vy4!19sChIJ7yBrjYlvHJURAbS75Z6j4uY?authuser=0&hl=en&rclk=1', 'phone_number': None, 'tipo_de_negocio': 'Bakery', 'endereço': 'R. Evaldo Hilgemann, 163'}\n",
      "{'label': 'Shopping do Doce Gourmet', 'link': 'https://www.google.com/maps/place/Shopping+do+Doce+Gourmet/data=!4m7!3m6!1s0x951c6e4b076e6189:0x3bac7593bc983fa5!8m2!3d-29.469865!4d-51.8075179!16s%2Fg%2F1z44b27tn!19sChIJiWFuB0tuHJURpT-YvJN1rDs?authuser=0&hl=en&rclk=1', 'phone_number': None, 'tipo_de_negocio': 'Bakery', 'endereço': 'R. 7 de Setembro, 144'}\n",
      "{'label': 'Padaria Paladar', 'link': 'https://www.google.com/maps/place/Padaria+Paladar/data=!4m7!3m6!1s0x951c67c8e233ca99:0x3ca29443fd284378!8m2!3d-29.3884033!4d-51.8689794!16s%2Fg%2F11f3zt0n2d!19sChIJmcoz4shnHJUReEMo_UOUojw?authuser=0&hl=en&rclk=1', 'phone_number': '+55 51 3760-1004', 'tipo_de_negocio': 'Bakery', 'endereço': 'R. Gen. Osório, 176'}\n",
      "{'label': 'Grano Vitta', 'link': 'https://www.google.com/maps/place/Grano+Vitta/data=!4m7!3m6!1s0x951c67cf17214f09:0x9ed3c18995ddb64!8m2!3d-29.3857136!4d-51.8665367!16s%2Fg%2F11hbv91bl2!19sChIJCU8hF89nHJURZNtdmRg87Qk?authuser=0&hl=en&rclk=1', 'phone_number': '+55 51 3760-1058', 'tipo_de_negocio': 'Cafe', 'endereço': 'Rod. Rst-25 (Estrada Imigrante), 657'}\n",
      "{'label': 'Thomas Kaffee Confeitaria', 'link': 'https://www.google.com/maps/place/Thomas+Kaffee+Confeitaria/data=!4m7!3m6!1s0x951c67d8680dcb75:0x4f916d61deefa964!8m2!3d-29.3890915!4d-51.8678757!16s%2Fg%2F11h_822ty5!19sChIJdcsNaNhnHJURZKnv3mFtkU8?authuser=0&hl=en&rclk=1', 'phone_number': '+55 51 99843-6095', 'tipo_de_negocio': 'Confectionery', 'endereço': 'R. Anton Brentano, 147'}\n",
      "{'label': 'Pedrotti Bakery', 'link': 'https://www.google.com/maps/place/Pedrotti+Bakery/data=!4m7!3m6!1s0x951c60c84921bb9f:0xb64e93ff6872df3d!8m2!3d-29.4021321!4d-51.9454223!16s%2Fg%2F11cscby3y0!19sChIJn7shSchgHJURPd9yaP-TTrY?authuser=0&hl=en&rclk=1', 'phone_number': None, 'tipo_de_negocio': 'Bakery', 'endereço': 'R. Visc. do Rio Branco, 636'}\n",
      "{'label': 'Tudesca Padaria', 'link': 'https://www.google.com/maps/place/Tudesca+Padaria/data=!4m7!3m6!1s0x951c60c9acea93f3:0x1893fb1984f2a08c!8m2!3d-29.402567!4d-51.9449345!16s%2Fg%2F1thlp7hd!19sChIJ85PqrMlgHJURjKDyhBn7kxg?authuser=0&hl=en&rclk=1', 'phone_number': None, 'tipo_de_negocio': 'Bakery', 'endereço': 'R. Visc. do Rio Branco, 584'}\n",
      "{'label': 'Bela Gourmet Padaria e Confeitaria', 'link': 'https://www.google.com/maps/place/Bela+Gourmet+Padaria+e+Confeitaria/data=!4m7!3m6!1s0x951c60baf0c04dff:0x573fad45dd5d3032!8m2!3d-29.3907624!4d-51.9512484!16s%2Fg%2F11f3rw9_7b!19sChIJ_03A8LpgHJURMjBd3UWtP1c?authuser=0&hl=en&rclk=1', 'phone_number': None, 'tipo_de_negocio': 'Bakery', 'endereço': 'R. Bela Vista'}\n",
      "{'label': 'Panificadora Ana Bella', 'link': 'https://www.google.com/maps/place/Panificadora+Ana+Bella/data=!4m7!3m6!1s0x951c6102053d3d49:0x2234626cf044f364!8m2!3d-29.3923339!4d-51.9554703!16s%2Fg%2F11hzrnvyly!19sChIJST09BQJhHJURZPNE8GxiNCI?authuser=0&hl=en&rclk=1', 'phone_number': None, 'tipo_de_negocio': 'Bakery', 'endereço': 'R. Fridolino Kaufmann, 757'}\n",
      "{'label': 'Bakery San Jose', 'link': 'https://www.google.com/maps/place/Bakery+San+Jose/data=!4m7!3m6!1s0x951c60c13eebbc97:0xd8724879f193944d!8m2!3d-29.4066688!4d-51.9535035!16s%2Fg%2F1tfffc4x!19sChIJl7zrPsFgHJURTZST8XlIctg?authuser=0&hl=en&rclk=1', 'phone_number': None, 'tipo_de_negocio': 'Bakery', 'endereço': 'R. Bruno Bersch, 551'}\n",
      "{'label': 'Padaria Suíça - Matriz', 'link': 'https://www.google.com/maps/place/Padaria+Su%C3%AD%C3%A7a+-+Matriz/data=!4m7!3m6!1s0x951c617ace117c8d:0x7deea46c5d8269cc!8m2!3d-29.4587312!4d-51.9697014!16s%2Fg%2F1tjypx4n!19sChIJjXwRznphHJURzGmCXWyk7n0?authuser=0&hl=en&rclk=1', 'phone_number': None, 'tipo_de_negocio': 'Bakery', 'endereço': 'Av. Benjamin Constant, 1445'}\n",
      "{'label': 'BAKERY SCHUH - Lajeado', 'link': 'https://www.google.com/maps/place/BAKERY+SCHUH+-+Lajeado/data=!4m7!3m6!1s0x951c61652709b69f:0x9964993a5ff65ea0!8m2!3d-29.4595568!4d-51.9683937!16s%2Fg%2F1tfqgznt!19sChIJn7YJJ2VhHJURoF72XzqZZJk?authuser=0&hl=en&rclk=1', 'phone_number': None, 'tipo_de_negocio': 'Bakery', 'endereço': 'R. Júlio de Castilhos, 1401'}\n",
      "{'label': 'Pão Quente Lajeado - Padaria, Confeitaria e Café', 'link': 'https://www.google.com/maps/place/P%C3%A3o+Quente+Lajeado+-+Padaria,+Confeitaria+e+Caf%C3%A9/data=!4m7!3m6!1s0x951c616470fadcf7:0x967f337563953bfd!8m2!3d-29.4611448!4d-51.9651154!16s%2Fg%2F1yfdpfjkd!19sChIJ99z6cGRhHJUR_TuVY3Uzf5Y?authuser=0&hl=en&rclk=1', 'phone_number': None, 'tipo_de_negocio': 'Bakery', 'endereço': 'R. Bento Gonçalves, 1083'}\n",
      "{'label': 'Padaria Tudesca', 'link': 'https://www.google.com/maps/place/Padaria+Tudesca/data=!4m7!3m6!1s0x951c6170eb0d1cd1:0xed97f0d31dbfa12d!8m2!3d-29.4568753!4d-51.9657747!16s%2Fg%2F11bxc7n2p_!19sChIJ0RwN63BhHJURLaG_HdPwl-0?authuser=0&hl=en&rclk=1', 'phone_number': None, 'tipo_de_negocio': 'Bakery', 'endereço': 'R. Pedro Albino Müller, 185'}\n",
      "{'label': 'Padaria Suiça - Filial', 'link': 'https://www.google.com/maps/place/Padaria+Sui%C3%A7a+-+Filial/data=!4m7!3m6!1s0x951c61874169558d:0x428d9ff072b8b894!8m2!3d-29.447522!4d-51.9644952!16s%2Fg%2F11s9jxx2rs!19sChIJjVVpQYdhHJURlLi4cvCfjUI?authuser=0&hl=en&rclk=1', 'phone_number': None, 'tipo_de_negocio': 'Bakery', 'endereço': 'Av. Piraí'}\n",
      "{'label': 'Padaria Delícia de Pão', 'link': 'https://www.google.com/maps/place/Padaria+Del%C3%ADcia+de+P%C3%A3o/data=!4m7!3m6!1s0x951c7c0561156bfd:0x93d5099e40a39ba!8m2!3d-29.5978369!4d-51.9281214!16s%2Fg%2F1vvr7cfs!19sChIJ_WsVYQV8HJURujkK5JlQPQk?authuser=0&hl=en&rclk=1', 'phone_number': None, 'tipo_de_negocio': 'Bakery', 'endereço': 'R. Sen. Pinheiro Machado, 1879'}\n",
      "{'label': 'RM Confecções e Confeitaria Delivery', 'link': 'https://www.google.com/maps/place/RM+Confec%C3%A7%C3%B5es+e+Confeitaria+Delivery/data=!4m7!3m6!1s0x951c7d772e83811f:0x8b1328e38571f1b2!8m2!3d-29.6042088!4d-51.9389987!16s%2Fg%2F11kg7gl38b!19sChIJH4GDLnd9HJURsvFxheMoE4s?authuser=0&hl=en&rclk=1', 'phone_number': None, 'tipo_de_negocio': 'Confectionery', 'endereço': 'R. Ernesto Dorneles'}\n",
      "{'label': 'Bakery Sweet Temptation', 'link': 'https://www.google.com/maps/place/Bakery+Sweet+Temptation/data=!4m7!3m6!1s0x951c7bf5c09a8acb:0xf4162fcdead45689!8m2!3d-29.5986061!4d-51.9353942!16s%2Fg%2F11c2qxbhkm!19sChIJy4qawPV7HJURiVbU6s0vFvQ?authuser=0&hl=en&rclk=1', 'phone_number': None, 'tipo_de_negocio': 'Dessert', 'endereço': 'R. Max Lenger, 125'}\n",
      "{'label': 'Patidodoce', 'link': 'https://www.google.com/maps/place/Patidodoce/data=!4m7!3m6!1s0x951c7d1bbc769d11:0xa788a54613f02adc!8m2!3d-29.594305!4d-51.939416!16s%2Fg%2F11l321czdz!19sChIJEZ12vBt9HJUR3CrwE0aliKc?authuser=0&hl=en&rclk=1', 'phone_number': None, 'tipo_de_negocio': 'Pastries', 'endereço': 'R. Bento José Labres, 861'}\n",
      "{'label': 'Padaria e Confeitaria Jaque', 'link': 'https://www.google.com/maps/place/Padaria+e+Confeitaria+Jaque/data=!4m7!3m6!1s0x951c7df2a83a51eb:0x7575ce8954445660!8m2!3d-29.603891!4d-51.9403914!16s%2Fg%2F11h9mkstz4!19sChIJ61E6qPJ9HJURYFZEVInOdXU?authuser=0&hl=en&rclk=1', 'phone_number': None, 'tipo_de_negocio': 'Bakery', 'endereço': 'R. Antônio Moraes Viegas, 2-84'}\n",
      "{'label': 'Padaria e Confeitaria Florestal', 'link': 'https://www.google.com/maps/place/Padaria+e+Confeitaria+Florestal/data=!4m7!3m6!1s0x951c617108e26a55:0x1e149c5e8b573dca!8m2!3d-29.4554978!4d-51.9715687!16s%2Fg%2F1tcyb1pj!19sChIJVWriCHFhHJURyj1Xi16cFB4?authuser=0&hl=en&rclk=1', 'phone_number': None, 'tipo_de_negocio': 'Bakery', 'endereço': 'R. Gen. Flores da Cunha, 33'}\n",
      "{'label': 'Delicias Criativas', 'link': 'https://www.google.com/maps/place/Delicias+Criativas/data=!4m7!3m6!1s0x951cf3f031da8133:0x9077fa1439d4cc80!8m2!3d-29.3705494!4d-52.1162452!16s%2Fg%2F11gd21g5fd!19sChIJM4HaMfDzHJURgMzUORT6d5A?authuser=0&hl=en&rclk=1', 'phone_number': None, 'tipo_de_negocio': 'Cupcakes', 'endereço': 'Unnamed Road'}\n",
      "{'label': 'Padaria Suíça - Matriz', 'link': 'https://www.google.com/maps/place/Padaria+Su%C3%AD%C3%A7a+-+Matriz/data=!4m7!3m6!1s0x951c617ace117c8d:0x7deea46c5d8269cc!8m2!3d-29.4587312!4d-51.9697014!16s%2Fg%2F1tjypx4n!19sChIJjXwRznphHJURzGmCXWyk7n0?authuser=0&hl=en&rclk=1', 'phone_number': None, 'tipo_de_negocio': 'Bakery', 'endereço': 'Av. Benjamin Constant, 1445'}\n",
      "{'label': 'Ênio Fleck & Cia', 'link': 'https://www.google.com/maps/place/%C3%8Anio+Fleck+%26+Cia/data=!4m7!3m6!1s0x951c616d4f491d15:0xaaab035fce59e1b8!8m2!3d-29.4481601!4d-51.9675517!16s%2Fg%2F1tcxwdnv!19sChIJFR1JT21hHJURuOFZzl8Dq6o?authuser=0&hl=en&rclk=1', 'phone_number': None, 'tipo_de_negocio': 'Bakery', 'endereço': 'R. Maurício Cardoso, 317'}\n",
      "{'label': 'Bakery and Confectionery Ki Bread', 'link': 'https://www.google.com/maps/place/Bakery+and+Confectionery+Ki+Bread/data=!4m7!3m6!1s0x951c61700de60453:0x41960294bdfc7b12!8m2!3d-29.4552321!4d-51.9692363!16s%2Fg%2F1tj9vhtb!19sChIJUwTmDXBhHJUREnv8vZQClkE?authuser=0&hl=en&rclk=1', 'phone_number': None, 'tipo_de_negocio': 'Bakery', 'endereço': 'R. Germano Berner, 886'}\n",
      "{'label': 'Padaria Confeitaria Ludwig', 'link': 'https://www.google.com/maps/place/Padaria+Confeitaria+Ludwig/data=!4m7!3m6!1s0x951c747a41b4391b:0x239c915b6ecda34c!8m2!3d-29.5526305!4d-51.73453!16s%2Fg%2F11crzjgz_n!19sChIJGzm0QXp0HJURTKPNbluRnCM?authuser=0&hl=en&rclk=1', 'phone_number': None, 'tipo_de_negocio': 'Bakery', 'endereço': 'R. José Jantsch Filho, 2086'}\n",
      "{'label': 'Padaria e Confeitaria Diemer', 'link': 'https://www.google.com/maps/place/Padaria+e+Confeitaria+Diemer/data=!4m7!3m6!1s0x951c75a79b4a3413:0x67be0cbaeaf3b169!8m2!3d-29.5515997!4d-51.736001!16s%2Fg%2F11jgd9npx6!19sChIJEzRKm6d1HJURabHz6roMvmc?authuser=0&hl=en&rclk=1', 'phone_number': None, 'tipo_de_negocio': 'Bakery', 'endereço': 'R. Quatro de Julho, 7120'}\n",
      "{'label': 'Salgados da Jana', 'link': 'https://www.google.com/maps/place/Salgados+da+Jana/data=!4m7!3m6!1s0x951c752c781d8fff:0xe3f8d7fc36e52809!8m2!3d-29.5516351!4d-51.7307457!16s%2Fg%2F11s4y887wm!19sChIJ_48deCx1HJURCSjlNvzX-OM?authuser=0&hl=en&rclk=1', 'phone_number': None, 'tipo_de_negocio': 'Bakery', 'endereço': 'R. Quatro de Julho, 7650'}\n",
      "{'label': 'Padaria e Confeitaria Giru', 'link': 'https://www.google.com/maps/place/Padaria+e+Confeitaria+Giru/data=!4m7!3m6!1s0x951c6c27b6eada79:0xb2f5957348da455e!8m2!3d-29.4287972!4d-51.766893!16s%2Fg%2F1yfjl9xyt!19sChIJedrqtidsHJURXkXaSHOV9bI?authuser=0&hl=en&rclk=1', 'phone_number': '+55 51 99755-5147', 'tipo_de_negocio': 'Bakery', 'endereço': 'R. Reinoldo Dahmer, 178'}\n",
      "{'label': 'Padaria e Pizzaria Paisandú', 'link': 'https://www.google.com/maps/place/Padaria+e+Pizzaria+Paisand%C3%BA/data=!4m7!3m6!1s0x951c6c9338066e6d:0xaec1ff2bbf223991!8m2!3d-29.4000472!4d-51.7110841!16s%2Fg%2F11dxb2s7s2!19sChIJbW4GOJNsHJURkTkivyv_wa4?authuser=0&hl=en&rclk=1', 'phone_number': '+55 51 99910-7993', 'tipo_de_negocio': 'Pizza', 'endereço': 'Linha Paisandu'}\n",
      "{'label': 'Bom pão panificadora', 'link': 'https://www.google.com/maps/place/Bom+p%C3%A3o+panificadora/data=!4m7!3m6!1s0x951c6f990d54ff6b:0xf5a567bdc15bacb1!8m2!3d-29.4654155!4d-51.7757332!16s%2Fg%2F11r_dwt4gj!19sChIJa_9UDZlvHJURsaxbwb1npfU?authuser=0&hl=en&rclk=1', 'phone_number': None, 'tipo_de_negocio': 'Bakery'}\n",
      "{'label': 'PADARIA BUTH', 'link': 'https://www.google.com/maps/place/PADARIA+BUTH/data=!4m7!3m6!1s0x951c6f7393aae365:0xed6b42edd9ec62d!8m2!3d-29.4469453!4d-51.7874752!16s%2Fg%2F11j8p5hwjp!19sChIJZeOqk3NvHJURLcae3S601g4?authuser=0&hl=en&rclk=1', 'phone_number': None, 'tipo_de_negocio': 'Bakery', 'endereço': 'R. Maurício Cardoso, 2390'}\n",
      "{'label': 'Minimercado e Padaria GH Center', 'link': 'https://www.google.com/maps/place/Minimercado+e+Padaria+GH+Center/data=!4m7!3m6!1s0x951c6c1fc81eb19b:0x8cb61b216fdb0a32!8m2!3d-29.4176255!4d-51.7665542!16s%2Fg%2F11bymv8zvb!19sChIJm7EeyB9sHJURMgrbbyEbtow?authuser=0&hl=en&rclk=1', 'phone_number': '+55 51 3762-4473', 'tipo_de_negocio': 'Market', 'endereço': 'R. Henrique Uebel, 401'}\n",
      "{'label': 'La Farfalla Confeitaria Artesanal', 'link': 'https://www.google.com/maps/place/La+Farfalla+Confeitaria+Artesanal/data=!4m7!3m6!1s0x8a94ea070465edab:0x8a8b25be3026bdc!8m2!3d-29.4440211!4d-51.7629192!16s%2Fg%2F11tffc9r60!19sChIJq-1lBAfqlIoR3GsC41uyqAg?authuser=0&hl=en&rclk=1', 'phone_number': '+55 51 99898-3471', 'tipo_de_negocio': 'Confectionery'}\n",
      "{'label': 'Toque Especial Confeitaria Roca Sales', 'link': 'https://www.google.com/maps/place/Toque+Especial+Confeitaria+Roca+Sales/data=!4m7!3m6!1s0x951c5d56fc727875:0x60989e53b36b355f!8m2!3d-29.2831446!4d-51.8668104!16s%2Fg%2F11rkp7y85c!19sChIJdXhy_FZdHJURXzVrs1OemGA?authuser=0&hl=en&rclk=1', 'phone_number': '+55 51 99781-5941', 'tipo_de_negocio': 'Confectionery', 'endereço': 'R. Anselmo, 288'}\n",
      "{'label': 'Padaria Schwarz', 'link': 'https://www.google.com/maps/place/Padaria+Schwarz/data=!4m7!3m6!1s0x951c5c9819214d6f:0xeb34639c399c3e8b!8m2!3d-29.2874783!4d-51.8745466!16s%2Fg%2F11thlx1r00!19sChIJb00hGZhcHJURiz6cOZxjNOs?authuser=0&hl=en&rclk=1', 'phone_number': '+55 51 3753-2065', 'tipo_de_negocio': 'Bakery'}\n",
      "{'label': 'La Casa das Tortas', 'link': 'https://www.google.com/maps/place/La+Casa+das+Tortas/data=!4m7!3m6!1s0x951c5df39bcf244f:0x3d68f8a61db34c8a!8m2!3d-29.2882543!4d-51.8751266!16s%2Fg%2F11r_mg2zgg!19sChIJTyTPm_NdHJURikyzHab4aD0?authuser=0&hl=en&rclk=1', 'phone_number': None, 'tipo_de_negocio': 'Confectionery', 'endereço': 'R. Cândido Giongo, N° 21 - sala 01'}\n",
      "{'label': 'Ylafte confeitaria', 'link': 'https://www.google.com/maps/place/Ylafte+confeitaria/data=!4m7!3m6!1s0x951c5d4bf491e6db:0xf0fbccc1eb04b85c!8m2!3d-29.282489!4d-51.8690584!16s%2Fg%2F11sd9mhhjr!19sChIJ2-aR9EtdHJURXLgE68HM-_A?authuser=0&hl=en&rclk=1', 'phone_number': None, 'tipo_de_negocio': 'Cake shop', 'endereço': 'R. Gen. Osório, 248'}\n",
      "{'label': 'Delícias Jo - Padaria e Confeitaria', 'link': 'https://www.google.com/maps/place/Del%C3%ADcias+Jo+-+Padaria+e+Confeitaria/data=!4m7!3m6!1s0x951cf6f57bb81a81:0x5dddb8d932c04e28!8m2!3d-29.3194485!4d-52.0643774!16s%2Fg%2F11f0l4bbbc!19sChIJgRq4e_X2HJURKE7AMtm43V0?authuser=0&hl=en&rclk=1', 'phone_number': None, 'tipo_de_negocio': 'Bakery', 'endereço': 'Av. 10 de Novembro'}\n",
      "{'label': 'Padaria e Confeitaria Berlim', 'link': 'https://www.google.com/maps/place/Padaria+e+Confeitaria+Berlim/data=!4m7!3m6!1s0x951cf75a23412539:0x20f0fcf0cbdc5858!8m2!3d-29.3208072!4d-52.0651679!16s%2Fg%2F11s8r72tly!19sChIJOSVBI1r3HJURWFjcy_D88CA?authuser=0&hl=en&rclk=1', 'phone_number': None, 'tipo_de_negocio': 'Bakery', 'endereço': 'Av. 10 de Novembro, 1193'}\n",
      "{'label': 'Padaria e Confeitaria Cia do Pão', 'link': 'https://www.google.com/maps/place/Padaria+e+Confeitaria+Cia+do+P%C3%A3o/data=!4m7!3m6!1s0x951c8b9e35ce2c71:0x28ee3f6eafefa055!8m2!3d-29.4691853!4d-52.0884666!16s%2Fg%2F11f1220nkk!19sChIJcSzONZ6LHJURVaDvr24_7ig?authuser=0&hl=en&rclk=1', 'phone_number': '+55 51 99682-5593', 'tipo_de_negocio': 'Bakery', 'endereço': 'Av. 28 de Maio, 1277'}\n",
      "{'label': 'Wolpre Alimentos', 'link': 'https://www.google.com/maps/place/Wolpre+Alimentos/data=!4m7!3m6!1s0x951c8bf968aef6cd:0x66e04d3f57ed6256!8m2!3d-29.4697593!4d-52.0889058!16s%2Fg%2F11h1lqqdyc!19sChIJzfauaPmLHJURVmLtVz9N4GY?authuser=0&hl=en&rclk=1', 'phone_number': '+55 51 99995-0610', 'tipo_de_negocio': 'Bakery', 'endereço': 'R. 2 de Novembro, 268'}\n",
      "{'label': 'Panificadora do Sul', 'link': 'https://www.google.com/maps/place/Panificadora+do+Sul/data=!4m7!3m6!1s0x950e40e2ac234a97:0x34adaa85a2c21dc1!8m2!3d-32.236063!4d-53.0836508!16s%2Fg%2F1tcw4sq2!19sChIJl0ojrOJADpURwR3CooWqrTQ?authuser=0&hl=en&rclk=1', 'phone_number': None, 'tipo_de_negocio': 'Bakery', 'endereço': 'R. Máximo Pereira, 421'}\n",
      "{'label': 'Padaria Dona Farinha', 'link': 'https://www.google.com/maps/place/Padaria+Dona+Farinha/data=!4m7!3m6!1s0x950e40fbcea8d613:0x82081cd22d251523!8m2!3d-32.2387743!4d-53.0810621!16s%2Fg%2F11cjh_8r8n!19sChIJE9aozvtADpURIxUlLdIcCII?authuser=0&hl=en&rclk=1', 'phone_number': None, 'tipo_de_negocio': 'Bakery', 'endereço': 'Av. Visc. de Mauá, 711'}\n",
      "{'label': \"FAMINTU'S Restautante, Padaria, Confeitaria e Cafeteria\", 'link': 'https://www.google.com/maps/place/FAMINTU%27S+Restautante,+Padaria,+Confeitaria+e+Cafeteria/data=!4m7!3m6!1s0x950e40e4d52b5705:0x5baeed6e85ee8827!8m2!3d-32.234638!4d-53.081023!16s%2Fg%2F11f0889jtm!19sChIJBVcr1eRADpURJ4juhW7trls?authuser=0&hl=en&rclk=1', 'phone_number': None, 'tipo_de_negocio': 'Bakery', 'endereço': 'R. Gen. Osório, 555'}\n",
      "{'label': 'Panificadora Delícias do Sul', 'link': 'https://www.google.com/maps/place/Panificadora+Del%C3%ADcias+do+Sul/data=!4m7!3m6!1s0x950e413ad35cd9d1:0x1e77a14745c295ee!8m2!3d-32.2417164!4d-53.0813471!16s%2Fg%2F11jwfb6kk8!19sChIJ0dlc0zpBDpUR7pXCRUehdx4?authuser=0&hl=en&rclk=1', 'phone_number': None, 'tipo_de_negocio': 'Bakery', 'endereço': 'R. Herculano de Freitas'}\n",
      "{'label': 'Padaria Flor de Lis', 'link': 'https://www.google.com/maps/place/Padaria+Flor+de+Lis/data=!4m7!3m6!1s0x950e41800f77d551:0x86e23baa5f48c6!8m2!3d-32.2435083!4d-53.0751673!16s%2Fg%2F11tf5g3szr!19sChIJUdV3D4BBDpURxkhfqjvihgA?authuser=0&hl=en&rclk=1', 'phone_number': None, 'tipo_de_negocio': 'Bakery', 'endereço': 'R. Henrique Dias, 41'}\n",
      "{'label': 'Panificadora Lisboa', 'link': 'https://www.google.com/maps/place/Panificadora+Lisboa/data=!4m7!3m6!1s0x950e418a8b2d0133:0xd48a17034d610786!8m2!3d-32.234181!4d-53.0831187!16s%2Fg%2F11k4lby84b!19sChIJMwEti4pBDpURhgdhTQMXitQ?authuser=0&hl=en&rclk=1', 'phone_number': None, 'tipo_de_negocio': 'Bakery', 'endereço': 'R. Gen. Osório, 369'}\n",
      "{'label': 'Padaria Doce Pan', 'link': 'https://www.google.com/maps/place/Padaria+Doce+Pan/data=!4m7!3m6!1s0x951ca3a0bdd8621b:0x612dbbb3b7ec7766!8m2!3d-29.7380888!4d-52.4208935!16s%2Fg%2F11f0kfgtlt!19sChIJG2LYvaCjHJURZnfst7O7LWE?authuser=0&hl=en&rclk=1', 'phone_number': None, 'tipo_de_negocio': 'Bakery', 'endereço': 'Rua Padre Reus, 349, Arroio Grande, Santa Cruz do Sul, cep 96830236,RS, R. Gen. Daltro Filho, 990'}\n",
      "{'label': 'loucos por pao caseiro', 'link': 'https://www.google.com/maps/place/loucos+por+pao+caseiro/data=!4m7!3m6!1s0x950e411dcbcf5b03:0x321767d4c0462363!8m2!3d-32.233239!4d-53.0832196!16s%2Fg%2F11rsp0z2x_!19sChIJA1vPyx1BDpURYyNGwNRnFzI?authuser=0&hl=en&rclk=1', 'phone_number': None, 'tipo_de_negocio': 'Bakery', 'endereço': 'R. Joaquim Manoel Soares'}\n",
      "{'label': 'Padaria Mundo Doce', 'link': 'https://www.google.com/maps/place/Padaria+Mundo+Doce/data=!4m7!3m6!1s0x950e410302d9d9ab:0x14252ca3271539a8!8m2!3d-32.2299072!4d-53.0751072!16s%2Fg%2F11l27_vw3c!19sChIJq9nZAgNBDpURqDkVJ6MsJRQ?authuser=0&hl=en&rclk=1', 'phone_number': None, 'tipo_de_negocio': 'Bakery', 'endereço': 'R. Hermes Conceição, 75'}\n"
     ]
    }
   ],
   "source": [
    "import openpyxl\n",
    "def salva_em_excel(data, nome):\n",
    "    # Extrair chaves dos dicionários\n",
    "    cabecalho = ['municipio','label', 'link', 'phone_number', 'tipo_de_negocio', 'endereço']\n",
    "    # Criar pasta de trabalho e planilha\n",
    "    wb = openpyxl.Workbook()\n",
    "    ws = wb.active\n",
    "\n",
    "    # Escrever o cabeçalho\n",
    "    for i, coluna in enumerate(cabecalho):\n",
    "        ws.cell(row=1, column=i+1, value=coluna)\n",
    "    for ii in data:\n",
    "        if ii != \"timeOfSearch\":\n",
    "            municipio = ii\n",
    "             # Escrever os dados\n",
    "            for i, item in enumerate(data[ii]['data'], start=2):\n",
    "                print(item)\n",
    "                for j, chave in enumerate(cabecalho):\n",
    "                    if chave == 'municipio':\n",
    "                        ws.cell(row=i, column=j+1, value=municipio)\n",
    "                    else:\n",
    "                        try:\n",
    "                            ws.cell(row=i, column=j+1, value=item[chave])\n",
    "                        except:\n",
    "                            ws.cell(row=i, column=j+1, value=\"None\")\n",
    "\n",
    "salva_em_excel(data, 'nome')"
   ]
  },
  {
   "cell_type": "code",
   "execution_count": null,
   "id": "8181ffbb-451c-40ec-8c74-53d9a7ffca45",
   "metadata": {},
   "outputs": [],
   "source": []
  }
 ],
 "metadata": {
  "kernelspec": {
   "display_name": "Python 3 (ipykernel)",
   "language": "python",
   "name": "python3"
  },
  "language_info": {
   "codemirror_mode": {
    "name": "ipython",
    "version": 3
   },
   "file_extension": ".py",
   "mimetype": "text/x-python",
   "name": "python",
   "nbconvert_exporter": "python",
   "pygments_lexer": "ipython3",
   "version": "3.10.12"
  }
 },
 "nbformat": 4,
 "nbformat_minor": 5
}
